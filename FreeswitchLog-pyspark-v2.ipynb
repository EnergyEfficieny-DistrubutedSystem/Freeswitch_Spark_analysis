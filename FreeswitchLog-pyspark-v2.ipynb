{
 "cells": [
  {
   "cell_type": "markdown",
   "id": "d820d0ae",
   "metadata": {},
   "source": [
    "# Freeswitch Log pyspark\n",
    "\n",
    "## Altanai Bisht \n",
    "( abisht@seattleu.edu\n",
    "altanai.telecom.com)\n",
    "\n",
    "License GPL 3"
   ]
  },
  {
   "cell_type": "code",
   "execution_count": null,
   "id": "f5adb2c3",
   "metadata": {},
   "outputs": [],
   "source": [
    "import pandas as pd\n",
    "import numpy as np\n",
    "import pyspark.pandas as ps\n",
    "from pyspark.sql import SparkSession\n",
    "\n",
    "spark = SparkSession.builder.getOrCreate()"
   ]
  },
  {
   "cell_type": "code",
   "execution_count": null,
   "id": "54698357",
   "metadata": {},
   "outputs": [],
   "source": [
    "import matplotlib.pyplot as plt\n",
    "import seaborn as sns\n",
    "import numpy as np\n",
    "%matplotlib inline"
   ]
  },
  {
   "cell_type": "markdown",
   "id": "010fde1f",
   "metadata": {},
   "source": [
    "# 1. Call Record\n",
    "\n",
    "FreeSWITCH CDRs stored in /usr/local/freeswitch/log/cdr-csv/Master.csv\n",
    "ref : https://freeswitch.org/confluence/display/FREESWITCH/CDR\n",
    "and https://freeswitch.org/confluence/display/FREESWITCH/mod_cdr_csv"
   ]
  },
  {
   "cell_type": "code",
   "execution_count": null,
   "id": "693c0955",
   "metadata": {},
   "outputs": [],
   "source": [
    "# logfile = \"/fslogs/*.log\"\n",
    "# fslogs = sc.textFile(\"hdfs://localhost:9000/\"+logfile)\n",
    "\n",
    "from pyspark import SparkFiles\n",
    "\n",
    "df = spark.read.csv(SparkFiles.get(\"C:\\\\Users\\\\abisht\\\\FS_logs\\\\*.csv\"), header=False, inferSchema= True)"
   ]
  },
  {
   "cell_type": "code",
   "execution_count": null,
   "id": "3523d2b3",
   "metadata": {},
   "outputs": [],
   "source": [
    "from datetime import datetime, date\n",
    "import pandas as pd\n",
    "from pyspark.sql import Row\n",
    "import re\n",
    "\n",
    "# Example Freeswitch cdr-csv log line:\n",
    "# \"8001\",\"8001\",\"0046423112856\",\"public\",\"2020-06-13 00:58:52\",\"2020-06-13 00:58:52\",\"2020-06-13 00:58:53\",\"1\",\"1\",\"USER_NOT_REGISTERED\",\"f2b05a36-ace2-11ea-aa3b-153da8caf925\",\"\",\"\",\"PCMU\",\"PCMU\"\n",
    "# FS_LOG_PATTERN = '^(\\S+) (\\S+) (\\S+) \\[([\\w:/]+\\s[+\\-]\\d{4})\\] \"(\\S+) (\\S+) (\\S+)\" (\\d{3}) (\\d+)'"
   ]
  },
  {
   "cell_type": "code",
   "execution_count": null,
   "id": "2d19c91e",
   "metadata": {},
   "outputs": [],
   "source": [
    "df.head(2)"
   ]
  },
  {
   "cell_type": "code",
   "execution_count": null,
   "id": "168fc1c2",
   "metadata": {},
   "outputs": [],
   "source": [
    "# df2 = spark.createDataFrame(df)\n",
    "# TypeError: data is already a DataFrame"
   ]
  },
  {
   "cell_type": "code",
   "execution_count": null,
   "id": "6ae81fdc",
   "metadata": {},
   "outputs": [],
   "source": [
    "df.count()"
   ]
  },
  {
   "cell_type": "code",
   "execution_count": null,
   "id": "a2daa37d",
   "metadata": {},
   "outputs": [],
   "source": [
    "df.show(5)\n",
    "df.printSchema()"
   ]
  },
  {
   "cell_type": "code",
   "execution_count": null,
   "id": "b7161334",
   "metadata": {},
   "outputs": [],
   "source": [
    "df.show(1, vertical=True)"
   ]
  },
  {
   "cell_type": "markdown",
   "id": "b984743b",
   "metadata": {},
   "source": [
    "**DataFrame.collect()** collects the distributed data to the driver side as the local data in Python. Note that this can throw an out-of-memory error when the dataset is too large to fit in the driver side because it collects all the data from executors to the driver side."
   ]
  },
  {
   "cell_type": "code",
   "execution_count": null,
   "id": "6d691535",
   "metadata": {},
   "outputs": [],
   "source": [
    "df.collect()"
   ]
  },
  {
   "cell_type": "markdown",
   "id": "89d59622",
   "metadata": {},
   "source": [
    "**Groupby** Group by call duartion "
   ]
  },
  {
   "cell_type": "code",
   "execution_count": null,
   "id": "dc6da6a7",
   "metadata": {},
   "outputs": [],
   "source": [
    "df.groupby('_c7').avg().show()"
   ]
  },
  {
   "cell_type": "code",
   "execution_count": null,
   "id": "2d855fd0",
   "metadata": {},
   "outputs": [],
   "source": [
    "# from pyspark.sql.functions import date_format\n",
    "\n",
    "# df2 = df.withColumn('startTime', date_format('_c4', 'YYYY-MM-DD  HH:mm:ss'))\n",
    "# df2[\"startTime\"].show()"
   ]
  },
  {
   "cell_type": "code",
   "execution_count": null,
   "id": "558cca6a",
   "metadata": {},
   "outputs": [],
   "source": [
    "# df2.head()\n",
    "# df2[\"startTime\"].head(2)"
   ]
  },
  {
   "cell_type": "markdown",
   "id": "847d492d",
   "metadata": {},
   "source": [
    "### Number of unique daily Callers"
   ]
  },
  {
   "cell_type": "code",
   "execution_count": null,
   "id": "77da9d21",
   "metadata": {},
   "outputs": [],
   "source": [
    "from pyspark.sql import functions as F\n",
    "\n",
    "host_day_df = df.select(df['_c1'],\n",
    "                             F.dayofmonth('_c4').alias('day'))\n",
    "host_day_df.show(5, truncate=False)"
   ]
  },
  {
   "cell_type": "markdown",
   "id": "7e1f0dcd",
   "metadata": {},
   "source": [
    "**host_day_distinct_df**"
   ]
  },
  {
   "cell_type": "code",
   "execution_count": null,
   "id": "e06766e0",
   "metadata": {},
   "outputs": [],
   "source": [
    "def_mr = pd.get_option('max_rows')\n",
    "pd.set_option('max_rows', 10)\n",
    "\n",
    "daily_hosts_df = (host_day_df\n",
    "                     .groupBy('day')\n",
    "                     .count()\n",
    "                     .sort(\"day\"))\n",
    "\n",
    "daily_hosts_df = daily_hosts_df.toPandas()\n",
    "daily_hosts_df"
   ]
  },
  {
   "cell_type": "code",
   "execution_count": null,
   "id": "37d7a31d",
   "metadata": {},
   "outputs": [],
   "source": [
    "c = sns.catplot(x='day', y='count',\n",
    "                data=daily_hosts_df,\n",
    "                kind='point', height=5,\n",
    "                aspect=1.5)"
   ]
  },
  {
   "cell_type": "markdown",
   "id": "7357505c",
   "metadata": {},
   "source": [
    "## Average number of daily Calls per Caller "
   ]
  },
  {
   "cell_type": "code",
   "execution_count": null,
   "id": "868bb06a",
   "metadata": {},
   "outputs": [],
   "source": [
    "daily_hosts_df = (host_day_df\n",
    "                     .groupBy('day')\n",
    "                     .count()\n",
    "                     .select(col(\"day\"),col(\"count\").alias(\"total_hosts\")))\n",
    "\n",
    "total_daily_reqests_df = (df\n",
    "                      .select(F.dayofmonth(\"time\").alias(\"day\"))\n",
    "                      .groupBy(\"day\")\n",
    "                      .count()\n",
    "                      .select(col(\"day\"), col(\"count\").alias(\"total_reqs\")))\n",
    "\n",
    "avg_daily_reqests_per_host_df = total_daily_reqests_df.join(daily_hosts_df, 'day')\n",
    "avg_daily_reqests_per_host_df = (avg_daily_reqests_per_host_df\n",
    "                                    .withColumn('avg_reqs', col('total_reqs') / col('total_hosts'))\n",
    "                                    .sort(\"day\"))\n",
    "avg_daily_reqests_per_host_df = avg_daily_reqests_per_host_df.toPandas()\n",
    "avg_daily_reqests_per_host_df"
   ]
  },
  {
   "cell_type": "code",
   "execution_count": null,
   "id": "7fa736ad",
   "metadata": {},
   "outputs": [],
   "source": [
    "c = sns.catplot(x='day', y='avg_reqs',\n",
    "                data=avg_daily_reqests_per_host_df,\n",
    "                kind='point', height=5, aspect=1.5)"
   ]
  },
  {
   "cell_type": "markdown",
   "id": "f5f6d842",
   "metadata": {},
   "source": [
    "## Aggregate"
   ]
  },
  {
   "cell_type": "code",
   "execution_count": null,
   "id": "622c704c",
   "metadata": {},
   "outputs": [],
   "source": [
    "(df.agg(F.min(df['_c7']).alias('min_content_size'),\n",
    "            F.max(df['_c7']).alias('max_content_size'),\n",
    "            F.mean(df['_c7']).alias('mean_content_size'),\n",
    "            F.stddev(df['_c7']).alias('std_content_size'),\n",
    "            F.count(df['_c7']).alias('count_content_size'))\n",
    "        .toPandas())"
   ]
  },
  {
   "cell_type": "markdown",
   "id": "d674f416",
   "metadata": {},
   "source": [
    "## 4.3  Call Hangup/status code analysis"
   ]
  },
  {
   "cell_type": "code",
   "execution_count": null,
   "id": "854bac0c",
   "metadata": {},
   "outputs": [],
   "source": [
    "status_freq_df = (df.groupBy('_c9')\n",
    "                     .count()\n",
    "                     .sort('_c9')\n",
    "                     .cache())\n",
    "print('Total distinct HTTP Status Codes:', status_freq_df.count())   "
   ]
  },
  {
   "cell_type": "code",
   "execution_count": null,
   "id": "6a07e22e",
   "metadata": {},
   "outputs": [],
   "source": [
    "status_freq_pd_df = (status_freq_df\n",
    "                         .toPandas()\n",
    "                         .sort_values(by=['count'],\n",
    "                                      ascending=False))\n",
    "status_freq_pd_df"
   ]
  },
  {
   "cell_type": "code",
   "execution_count": null,
   "id": "c4825ddf",
   "metadata": {},
   "outputs": [],
   "source": [
    "# import matplotlib.pylab as plt\n",
    "sns.catplot(x='_c9', y='count', data=status_freq_pd_df,\n",
    "            kind='bar',\n",
    "            order=status_freq_pd_df['_c9'])\n",
    "plt.xticks(rotation=45)"
   ]
  },
  {
   "cell_type": "markdown",
   "id": "47d4af9b",
   "metadata": {},
   "source": [
    "# 3. Counting NORMAL_CLEARING response codes"
   ]
  },
  {
   "cell_type": "code",
   "execution_count": null,
   "id": "f68d6a71",
   "metadata": {},
   "outputs": [],
   "source": [
    "normal_clearing_df = df.filter(df[\"_c9\"] == 'NORMAL_CLEARING').cache()\n",
    "print(('Total NORMAL_CLEARING hangupcode: {}').format(normal_clearing_df.count()))"
   ]
  },
  {
   "cell_type": "code",
   "execution_count": null,
   "id": "3802990a",
   "metadata": {},
   "outputs": [],
   "source": [
    "# Top 20 normal clearings\n",
    "normal_clearing_count_df = (normal_clearing_df\n",
    "                          .groupBy(\"_c1\")\n",
    "                          .count()\n",
    "                          .sort(\"count\", ascending=False)\n",
    "                          .limit(20))\n",
    "\n",
    "normal_clearing_count_df.show(truncate=False)"
   ]
  },
  {
   "cell_type": "markdown",
   "id": "83d2ff41",
   "metadata": {},
   "source": [
    "## normal_clearings per day"
   ]
  },
  {
   "cell_type": "code",
   "execution_count": null,
   "id": "b80c845d",
   "metadata": {},
   "outputs": [],
   "source": [
    "normal_clearing_perday_df = (normal_clearing_df\n",
    "                                .groupBy(F.dayofmonth('_c4').alias('day'))\n",
    "                                .count()\n",
    "                                .sort(\"day\"))\n",
    "\n",
    "normal_clearing_perday_pd_df = normal_clearing_perday_df.toPandas()\n",
    "normal_clearing_perday_pd_df"
   ]
  },
  {
   "cell_type": "code",
   "execution_count": null,
   "id": "020ee69e",
   "metadata": {},
   "outputs": [],
   "source": [
    "c = sns.catplot(x='day', y='count',\n",
    "                data=normal_clearing_perday_pd_df,\n",
    "                kind='point', height=5, aspect=1.5)"
   ]
  },
  {
   "cell_type": "markdown",
   "id": "78a15a05",
   "metadata": {},
   "source": [
    "## Top three days for normal clearning "
   ]
  },
  {
   "cell_type": "code",
   "execution_count": null,
   "id": "36b2b9d1",
   "metadata": {},
   "outputs": [],
   "source": [
    "(normal_clearing_count_df\n",
    "    .sort(\"count\", ascending=False)\n",
    "    .show(3))"
   ]
  },
  {
   "cell_type": "markdown",
   "id": "a5286a7b",
   "metadata": {},
   "source": [
    "## Hourly normal clearings"
   ]
  },
  {
   "cell_type": "code",
   "execution_count": null,
   "id": "6d152cac",
   "metadata": {},
   "outputs": [],
   "source": [
    "hourly_avg_normal_clearing_df = (normal_clearing_df\n",
    "                                   .groupBy(F.hour('_c4').alias('hour'))\n",
    "                                   .count()\n",
    "                                   .sort('hour'))\n",
    "hourly_avg_normal_clearing_pd_df = hourly_avg_normal_clearing_df.toPandas()\n",
    "\n",
    "c = sns.catplot(x='hour', y='count',\n",
    "                data=hourly_avg_normal_clearing_pd_df,\n",
    "                kind='bar', height=5, aspect=1.5)"
   ]
  },
  {
   "cell_type": "markdown",
   "id": "b9b69107",
   "metadata": {},
   "source": [
    "##   Caller / Call Destinations"
   ]
  },
  {
   "cell_type": "code",
   "execution_count": null,
   "id": "05845c7e",
   "metadata": {},
   "outputs": [],
   "source": [
    "host_sum_df =(df\n",
    "               .groupBy('_c2')\n",
    "               .count()\n",
    "               .sort('count', ascending=False).limit(10))\n",
    "\n",
    "host_sum_df.show(truncate=False)"
   ]
  },
  {
   "cell_type": "markdown",
   "id": "82d5fc28",
   "metadata": {},
   "source": [
    "# 4 Call duration per hour "
   ]
  },
  {
   "cell_type": "code",
   "execution_count": null,
   "id": "e1523e9d",
   "metadata": {},
   "outputs": [],
   "source": [
    "callduration_df = df.filter(df[\"_c7\"] > 0).cache()\n",
    "print(('Total Calls with non zero Duration is {}').format(callduration_df.count()))"
   ]
  },
  {
   "cell_type": "code",
   "execution_count": null,
   "id": "7faa10fc",
   "metadata": {},
   "outputs": [],
   "source": [
    "callduration_df.toPandas().plot()"
   ]
  },
  {
   "cell_type": "code",
   "execution_count": null,
   "id": "8cb70d64",
   "metadata": {},
   "outputs": [],
   "source": [
    "hourly_callduration_df = (callduration_df\n",
    "                                   .groupBy(F.hour('_c4').alias('hour'))\n",
    "                                   .count()\n",
    "                                   .sort('hour'))\n",
    "hourly_callduration_pd_df = hourly_callduration_df.toPandas()\n",
    "\n",
    "c = sns.catplot(x='hour', y='count',\n",
    "                data=hourly_callduration_pd_df,\n",
    "                kind='bar', height=5, aspect=1.5)"
   ]
  },
  {
   "cell_type": "code",
   "execution_count": null,
   "id": "5fb3d2c0",
   "metadata": {},
   "outputs": [],
   "source": [
    "host_sum_pd_df = host_sum_df.toPandas()\n",
    "host_sum_pd_df.iloc[8]['_c2']"
   ]
  },
  {
   "cell_type": "markdown",
   "id": "5881d970",
   "metadata": {},
   "source": [
    "# Carbon Footprint"
   ]
  },
  {
   "cell_type": "code",
   "execution_count": null,
   "id": "5f9c64c6",
   "metadata": {},
   "outputs": [],
   "source": [
    "import carbonfootprint as carbonfp\n",
    "# from carbonfp.power_utilities.carbon import Carbon\n",
    "# from power_utilities.fuelmix import Fuelmix\n",
    "# # from power_utilities.Fuelmix import calculate_fuelmixbypercent\n",
    "# # from power_utilities import carbon_by_fuelmix\n",
    "# from power_utilities import fuelmix"
   ]
  },
  {
   "cell_type": "code",
   "execution_count": null,
   "id": "f44ec017",
   "metadata": {},
   "outputs": [],
   "source": [
    "carbonfp"
   ]
  },
  {
   "cell_type": "code",
   "execution_count": null,
   "id": "64afbc80",
   "metadata": {},
   "outputs": [],
   "source": [
    "# for importer, modname, ispkg in carbonfp(path=None, onerror=lambda x: None):\n",
    "#     print(modname)\n",
    "\n",
    "for importer, modname, ispkg in carbonfp.iter_modules(package.__path__):\n",
    "    print(\"Found submodule %s (is a package: %s)\" % (modname, ispkg))"
   ]
  },
  {
   "cell_type": "code",
   "execution_count": null,
   "id": "9dfcf085",
   "metadata": {},
   "outputs": [],
   "source": [
    "furlpercent_obj = carbonfp.power_utilities.Fuelmix(\"north_west\")"
   ]
  },
  {
   "cell_type": "code",
   "execution_count": null,
   "id": "b05ad4df",
   "metadata": {},
   "outputs": [],
   "source": [
    "\n",
    "dfindus_hourly_fuelmix = furlpercent_obj.calculate_fuelmixbypercent(dfindus_hourly)\n",
    "carbonemissio_pbj = Carbon()\n",
    "dfindus_hourly_fuelmix_carbon = carbonemissio_pbj.calculate_carbonemission(dfindus_hourly_fuelmix)\n",
    "print(\"-------------dfindus_hourly_fuelmix_carbon------------------\")\n",
    "print(dfindus_hourly_fuelmix_carbon.head())\n",
    "print(dfindus_hourly_fuelmix_carbon.columns)\n"
   ]
  },
  {
   "cell_type": "markdown",
   "id": "58d55978",
   "metadata": {},
   "source": [
    "**Refs**\n",
    "- https://opensource.com/article/19/5/visualize-log-data-apache-spark"
   ]
  }
 ],
 "metadata": {
  "kernelspec": {
   "display_name": "Python 3 (ipykernel)",
   "language": "python",
   "name": "python3"
  },
  "language_info": {
   "codemirror_mode": {
    "name": "ipython",
    "version": 3
   },
   "file_extension": ".py",
   "mimetype": "text/x-python",
   "name": "python",
   "nbconvert_exporter": "python",
   "pygments_lexer": "ipython3",
   "version": "3.9.7"
  }
 },
 "nbformat": 4,
 "nbformat_minor": 5
}

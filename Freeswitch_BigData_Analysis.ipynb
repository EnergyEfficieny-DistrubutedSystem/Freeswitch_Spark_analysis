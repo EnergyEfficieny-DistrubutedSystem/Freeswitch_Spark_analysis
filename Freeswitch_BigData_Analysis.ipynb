{
 "cells": [
  {
   "cell_type": "markdown",
   "id": "edfbde9a-5ce4-4a31-a114-148f3942801f",
   "metadata": {},
   "source": [
    "# Freeswitch Log pyspark\n",
    "\n",
    "## Altanai Bisht \n",
    "( abisht@seattleu.edu\n",
    "altanai.telecom.com)\n",
    "\n",
    "License GPL 3"
   ]
  },
  {
   "cell_type": "code",
   "execution_count": 4,
   "id": "1b0094e1-0392-4429-b3dd-94ff9508e9cf",
   "metadata": {},
   "outputs": [
    {
     "name": "stdout",
     "output_type": "stream",
     "text": [
      "C:\\Users\\abisht\\.jdks\\corretto-11.0.15\n"
     ]
    }
   ],
   "source": [
    "import os \n",
    "os.environ['JAVA_HOME']=\"C:\\\\Users\\\\abisht\\\\.jdks\\\\corretto-11.0.15\"\n",
    "print(os.environ['JAVA_HOME'])"
   ]
  },
  {
   "cell_type": "code",
   "execution_count": 5,
   "id": "e35d6f86-45b9-4885-83df-539e2cf64d3c",
   "metadata": {},
   "outputs": [
    {
     "data": {
      "text/plain": [
       "'C:\\\\Users\\\\abisht\\\\Downloads\\\\spark-3.2.1-bin-hadoop3.2\\\\spark-3.2.1-bin-hadoop3.2'"
      ]
     },
     "execution_count": 5,
     "metadata": {},
     "output_type": "execute_result"
    }
   ],
   "source": [
    "import findspark\n",
    "findspark.init()\n",
    "findspark.find()"
   ]
  },
  {
   "cell_type": "code",
   "execution_count": 6,
   "id": "65800ba7-c983-40c1-9a5b-a9922242489b",
   "metadata": {},
   "outputs": [],
   "source": [
    "import pandas as pd\n",
    "import numpy as np"
   ]
  },
  {
   "cell_type": "code",
   "execution_count": 7,
   "id": "ebfef4a9-2c8d-4cb3-93ec-9338a163f53e",
   "metadata": {},
   "outputs": [],
   "source": [
    "import matplotlib.pyplot as plt\n",
    "import seaborn as sns\n",
    "import numpy as np\n",
    "from datetime import datetime, date\n",
    "\n",
    "%matplotlib inline"
   ]
  },
  {
   "cell_type": "code",
   "execution_count": 8,
   "id": "58ad5402-8b25-4dd2-944a-fa6aec05c645",
   "metadata": {},
   "outputs": [],
   "source": [
    "import pyspark \n",
    "from pyspark.sql import Row\n",
    "from pyspark.sql import SparkSession\n",
    "spark = SparkSession.builder.getOrCreate()"
   ]
  },
  {
   "cell_type": "code",
   "execution_count": 9,
   "id": "57fec570-b8f4-469d-beed-f018ebf15ef6",
   "metadata": {},
   "outputs": [],
   "source": [
    "from pyspark.mllib.stat import Statistics \n",
    "import re"
   ]
  },
  {
   "cell_type": "markdown",
   "id": "7c0314c1-0ba7-417d-a26a-bfacb75d98d2",
   "metadata": {},
   "source": [
    "# 1. Call Record\n",
    "\n",
    "FreeSWITCH CDRs stored in /usr/local/freeswitch/log/cdr-csv/Master.csv\n",
    "ref : https://freeswitch.org/confluence/display/FREESWITCH/CDR\n",
    "and https://freeswitch.org/confluence/display/FREESWITCH/mod_cdr_csv"
   ]
  },
  {
   "cell_type": "code",
   "execution_count": 10,
   "id": "ab3cbf1f-6249-494d-9d66-7f0254435684",
   "metadata": {},
   "outputs": [],
   "source": [
    "# logfile = \"/fslogs/*.log\"\n",
    "# fslogs = sc.textFile(\"hdfs://localhost:9000/\"+logfile)\n",
    "filepath_csv= \"C:\\\\Users\\\\abisht\\\\FS_logs\\\\*.csv\"\n",
    "\n",
    "from pyspark import SparkFiles\n",
    "df = spark.read.csv(SparkFiles.get(filepath_csv), header=False, inferSchema= True)"
   ]
  },
  {
   "cell_type": "code",
   "execution_count": 11,
   "id": "a8415876-e959-44a1-98cb-68ae01668193",
   "metadata": {},
   "outputs": [
    {
     "data": {
      "text/plain": [
       "[Row(_c4='2020-06-13 00:58:52', _c6='2020-06-13 00:58:53', _c10='f2b05a36-ace2-11ea-aa3b-153da8caf925'),\n",
       " Row(_c4='2020-06-13 00:59:51', _c6='2020-06-13 00:59:52', _c10='15d78f5c-ace3-11ea-aa45-153da8caf925'),\n",
       " Row(_c4='2020-06-13 01:00:13', _c6='2020-06-13 01:00:14', _c10='22d77398-ace3-11ea-aa4f-153da8caf925'),\n",
       " Row(_c4='2020-06-13 01:00:36', _c6='2020-06-13 01:00:37', _c10='30e9979a-ace3-11ea-aa59-153da8caf925'),\n",
       " Row(_c4='2020-06-13 01:00:43', _c6='2020-06-13 01:00:44', _c10='35075b78-ace3-11ea-aa63-153da8caf925')]"
      ]
     },
     "execution_count": 11,
     "metadata": {},
     "output_type": "execute_result"
    }
   ],
   "source": [
    "parsed_df = df.select(df._c4, df._c6, df._c10)\n",
    "parsed_df.head(5)"
   ]
  },
  {
   "cell_type": "code",
   "execution_count": 39,
   "id": "adda2d37-ff70-44f4-bd99-e1d5691e27f3",
   "metadata": {},
   "outputs": [
    {
     "name": "stdout",
     "output_type": "stream",
     "text": [
      "+-------------------+-------------------+--------------------+\n",
      "|          startTime|            endTime|            calluuid|\n",
      "+-------------------+-------------------+--------------------+\n",
      "|2020-06-13 00:58:52|2020-06-13 00:58:53|f2b05a36-ace2-11e...|\n",
      "|2020-06-13 00:59:51|2020-06-13 00:59:52|15d78f5c-ace3-11e...|\n",
      "|2020-06-13 01:00:13|2020-06-13 01:00:14|22d77398-ace3-11e...|\n",
      "|2020-06-13 01:00:36|2020-06-13 01:00:37|30e9979a-ace3-11e...|\n",
      "|2020-06-13 01:00:43|2020-06-13 01:00:44|35075b78-ace3-11e...|\n",
      "+-------------------+-------------------+--------------------+\n",
      "only showing top 5 rows\n",
      "\n"
     ]
    }
   ],
   "source": [
    "new_rdd = parsed_df.rdd\n",
    "parsed_rdd = new_rdd.map(lambda r : Row(\\\n",
    "                                        startTime =r[0],\\\n",
    "                                        endTime=r[1],\\\n",
    "                                        calluuid=r[-1]))\n",
    "cdr_df = spark.createDataFrame(parsed_rdd)\n",
    "cdr_df.show(5)"
   ]
  },
  {
   "cell_type": "code",
   "execution_count": 37,
   "id": "0107baeb-fd7f-41c4-aada-ebb9aacfc06d",
   "metadata": {},
   "outputs": [
    {
     "name": "stdout",
     "output_type": "stream",
     "text": [
      "root\n",
      " |-- startTime: string (nullable = true)\n",
      " |-- endTime: string (nullable = true)\n",
      " |-- calluuid: string (nullable = true)\n",
      "\n"
     ]
    }
   ],
   "source": [
    "cdr_df.printSchema()"
   ]
  },
  {
   "cell_type": "code",
   "execution_count": 38,
   "id": "13a41dd6-276a-47e8-96d9-2dc6112c4b26",
   "metadata": {},
   "outputs": [
    {
     "name": "stdout",
     "output_type": "stream",
     "text": [
      "-RECORD 0-------------------------\n",
      " startTime | 2020-06-13 00:58:52  \n",
      " endTime   | 2020-06-13 00:58:53  \n",
      " calluuid  | f2b05a36-ace2-11e... \n",
      "only showing top 1 row\n",
      "\n"
     ]
    }
   ],
   "source": [
    "cdr_df.show(1, vertical=True)"
   ]
  },
  {
   "cell_type": "markdown",
   "id": "482aa64e-ee42-4c42-be91-3562be863b9d",
   "metadata": {},
   "source": [
    "# 2. Freeswitch VoIP Logs\n"
   ]
  },
  {
   "cell_type": "code",
   "execution_count": 16,
   "id": "953807da-bfcf-4a8d-bcb9-32e57a34bc3e",
   "metadata": {},
   "outputs": [
    {
     "data": {
      "text/plain": [
       "Row(value='2020-06-14 05:05:07.622623 [NOTICE] mod_logfile.c:192 New log started: /usr/local/freeswitch/log/freeswitch.log')"
      ]
     },
     "execution_count": 16,
     "metadata": {},
     "output_type": "execute_result"
    }
   ],
   "source": [
    "filepath_logs= \"C:\\\\Users\\\\abisht\\\\VoIPCallLogs_BigDataSet\\\\freeswitch\\\\*.log\"\n",
    "\n",
    "from pyspark import SparkFiles\n",
    "base_df = spark.read.text(SparkFiles.get(filepath_logs))\n",
    "base_df.head()"
   ]
  },
  {
   "cell_type": "code",
   "execution_count": 17,
   "id": "63fc170b-fdf1-4dd7-a6b5-a7846657e6d5",
   "metadata": {},
   "outputs": [
    {
     "name": "stdout",
     "output_type": "stream",
     "text": [
      "+---------------------------------------------------------------------------------------------------------------------------------------------------------------+\n",
      "|value                                                                                                                                                          |\n",
      "+---------------------------------------------------------------------------------------------------------------------------------------------------------------+\n",
      "|2020-06-14 05:05:07.622623 [NOTICE] mod_logfile.c:192 New log started: /usr/local/freeswitch/log/freeswitch.log                                                |\n",
      "|2020-06-14 05:05:07.622623 [DEBUG] sofia_reg.c:1790 Send challenge for [9999@117.201.85.75]                                                                    |\n",
      "|2020-06-14 05:05:07.622623 [WARNING] sofia_reg.c:1794 SIP auth challenge (REGISTER) on sofia profile 'internal' for [9999@117.201.85.75] from ip 37.187.153.237|\n",
      "|send 618 bytes to udp/[37.187.153.237]:6275 at 03:08:15.775434:                                                                                                |\n",
      "|------------------------------------------------------------------------                                                                                       |\n",
      "|SIP/2.0 401 Unauthorized                                                                                                                                       |\n",
      "|Via: SIP/2.0/UDP 37.187.153.237:6275;branch=z9hG4bK-3405921800;rport=6275                                                                                      |\n",
      "|From: \"9999\" <sip:9999@117.201.85.75>;tag=2930930192                                                                                                           |\n",
      "|To: \"9999\" <sip:9999@117.201.85.75>;tag=2Z3F1yFBKrvDp                                                                                                          |\n",
      "|Call-ID: 1834515944                                                                                                                                            |\n",
      "+---------------------------------------------------------------------------------------------------------------------------------------------------------------+\n",
      "only showing top 10 rows\n",
      "\n"
     ]
    }
   ],
   "source": [
    "base_df.show(10, truncate=False)"
   ]
  },
  {
   "cell_type": "code",
   "execution_count": 18,
   "id": "5a65b55f-80af-4914-9732-9a5679034f13",
   "metadata": {},
   "outputs": [
    {
     "name": "stdout",
     "output_type": "stream",
     "text": [
      "['value']\n"
     ]
    },
    {
     "data": {
      "text/plain": [
       "pyspark.sql.dataframe.DataFrame"
      ]
     },
     "execution_count": 18,
     "metadata": {},
     "output_type": "execute_result"
    }
   ],
   "source": [
    "print(base_df.columns)\n",
    "type(base_df)"
   ]
  },
  {
   "cell_type": "markdown",
   "id": "2c0c9ba0-66ee-495b-989e-481dc69f6aa9",
   "metadata": {},
   "source": [
    "## 2.1 Data Wrangling in Logs "
   ]
  },
  {
   "cell_type": "code",
   "execution_count": 19,
   "id": "0da955a7-f456-4159-8dd9-f94898abb2b0",
   "metadata": {},
   "outputs": [
    {
     "data": {
      "text/plain": [
       "['2020-06-14 05:05:07.622623 [NOTICE] mod_logfile.c:192 New log started: /usr/local/freeswitch/log/freeswitch.log',\n",
       " '2020-06-14 05:05:07.622623 [DEBUG] sofia_reg.c:1790 Send challenge for [9999@117.201.85.75]',\n",
       " \"2020-06-14 05:05:07.622623 [WARNING] sofia_reg.c:1794 SIP auth challenge (REGISTER) on sofia profile 'internal' for [9999@117.201.85.75] from ip 37.187.153.237\",\n",
       " 'send 618 bytes to udp/[37.187.153.237]:6275 at 03:08:15.775434:',\n",
       " '------------------------------------------------------------------------',\n",
       " 'SIP/2.0 401 Unauthorized',\n",
       " 'Via: SIP/2.0/UDP 37.187.153.237:6275;branch=z9hG4bK-3405921800;rport=6275',\n",
       " 'From: \"9999\" <sip:9999@117.201.85.75>;tag=2930930192',\n",
       " 'To: \"9999\" <sip:9999@117.201.85.75>;tag=2Z3F1yFBKrvDp',\n",
       " 'Call-ID: 1834515944',\n",
       " 'CSeq: 1 REGISTER',\n",
       " 'User-Agent: FreeSWITCH-mod_sofia/1.10.4-dev+git~20200518T172205Z~91f54340ed~64bit',\n",
       " 'Allow: INVITE, ACK, BYE, CANCEL, OPTIONS, MESSAGE, INFO, UPDATE, REGISTER, REFER, NOTIFY, PUBLISH, SUBSCRIBE',\n",
       " 'Supported: timer, path, replaces',\n",
       " 'WWW-Authenticate: Digest realm=\"117.201.85.75\", nonce=\"5af061f4-ae87-11ea-a68a-153da8caf925\", algorithm=MD5, qop=\"auth\"']"
      ]
     },
     "execution_count": 19,
     "metadata": {},
     "output_type": "execute_result"
    }
   ],
   "source": [
    "sample_logs = [item['value'] for item in base_df.take(15)]\n",
    "sample_logs"
   ]
  },
  {
   "cell_type": "markdown",
   "id": "08bfb2b4-94a5-408c-8385-9d287be7d163",
   "metadata": {},
   "source": [
    "## 2.2 Reframe the dataframe with regex\n",
    "\n",
    "Extracting timestamps"
   ]
  },
  {
   "cell_type": "code",
   "execution_count": 20,
   "id": "7b18026f-946f-4488-8e1d-745b36afc214",
   "metadata": {},
   "outputs": [
    {
     "name": "stdout",
     "output_type": "stream",
     "text": [
      "+-------------------+\n",
      "|          timestamp|\n",
      "+-------------------+\n",
      "|2020-06-14 05:05:07|\n",
      "|2020-06-14 05:05:07|\n",
      "|2020-06-14 05:05:07|\n",
      "|                   |\n",
      "|                   |\n",
      "|                   |\n",
      "|                   |\n",
      "|                   |\n",
      "|                   |\n",
      "|                   |\n",
      "+-------------------+\n",
      "only showing top 10 rows\n",
      "\n",
      "(7519512, 1)\n"
     ]
    }
   ],
   "source": [
    "from pyspark.sql.functions import regexp_extract\n",
    "\n",
    "# 2020-06-14 05:05:07.622623\n",
    "ts_pattern = r'(\\d{4}-\\d{2}-\\d{2} \\d{2}:\\d{2}:\\d{2})'\n",
    "\n",
    "logs_df = base_df.select(regexp_extract('value', ts_pattern, 1).alias('timestamp'))\n",
    "logs_df.show(10, truncate=True)\n",
    "print((logs_df.count(), len(logs_df.columns)))"
   ]
  },
  {
   "cell_type": "markdown",
   "id": "6b43c388-7bb8-4e06-869f-7e452afce1e6",
   "metadata": {},
   "source": [
    "## 2.3 Finding missing values, Drop or values outside of date range "
   ]
  },
  {
   "cell_type": "code",
   "execution_count": 21,
   "id": "41fec15d-16c0-4102-9186-214c159c32fb",
   "metadata": {},
   "outputs": [
    {
     "data": {
      "text/plain": [
       "7519512"
      ]
     },
     "execution_count": 21,
     "metadata": {},
     "output_type": "execute_result"
    }
   ],
   "source": [
    "dates = (\"2019-01-01\",  \"2022-12-31\")\n",
    "# bad_rows_df = logs_df['timestamp'].between(*dates).show(truncate=False)\n",
    "useful_logs_df= logs_df.select(logs_df['timestamp'], logs_df['timestamp'].between(*dates))\n",
    "useful_logs_df.count()"
   ]
  },
  {
   "cell_type": "code",
   "execution_count": 22,
   "id": "8b053d5e-8c0b-412b-81ee-27cd4c1343ae",
   "metadata": {},
   "outputs": [
    {
     "name": "stdout",
     "output_type": "stream",
     "text": [
      "+-------------------+---------------------------------------------------------+\n",
      "|          timestamp|((timestamp >= 2019-01-01) AND (timestamp <= 2022-12-31))|\n",
      "+-------------------+---------------------------------------------------------+\n",
      "|2020-06-14 05:05:07|                                                     true|\n",
      "|2020-06-14 05:05:07|                                                     true|\n",
      "|2020-06-14 05:05:07|                                                     true|\n",
      "|2020-06-14 05:05:07|                                                     true|\n",
      "|2020-06-14 05:05:07|                                                     true|\n",
      "|2020-06-14 05:05:07|                                                     true|\n",
      "|2020-06-14 05:05:07|                                                     true|\n",
      "|2020-06-14 05:05:07|                                                     true|\n",
      "|2020-06-14 05:05:07|                                                     true|\n",
      "|2020-06-14 05:05:07|                                                     true|\n",
      "+-------------------+---------------------------------------------------------+\n",
      "only showing top 10 rows\n",
      "\n"
     ]
    }
   ],
   "source": [
    "logs_df = useful_logs_df[useful_logs_df[1]=='true']\n",
    "logs_df.show(10, truncate=True)"
   ]
  },
  {
   "cell_type": "markdown",
   "id": "fa5d1e0a-29c7-4dec-84ef-46ca29793d18",
   "metadata": {},
   "source": [
    "# 3. Call Recorded Audio File \n",
    "\n",
    "- wav"
   ]
  },
  {
   "cell_type": "code",
   "execution_count": 23,
   "id": "ff19c532-d6fd-4fa0-a9b7-540fc10ee003",
   "metadata": {},
   "outputs": [],
   "source": [
    "import scipy\n",
    "import os.path, time, datetime\n",
    "import platform"
   ]
  },
  {
   "cell_type": "code",
   "execution_count": 24,
   "id": "e86148b9-8f3e-440b-b7a2-9c6fdb4fd9ab",
   "metadata": {},
   "outputs": [
    {
     "data": {
      "text/plain": [
       "['M1F1-Alaw-AFsp.wav',\n",
       " 'M1F1-AlawWE-AFsp.wav',\n",
       " 'M1F1-float32-AFsp.wav',\n",
       " 'M1F1-float64WE-AFsp.wav',\n",
       " 'M1F1-mulawWE-AFsp.wav',\n",
       " 'M1F1-uint8-AFsp.wav',\n",
       " 'output.wav',\n",
       " 'recording08_44_12.wav',\n",
       " 'recording08_44_18.wav',\n",
       " 'recording08_46_25.wav',\n",
       " 'recording08_47_08.wav',\n",
       " 'recording08_47_11.wav',\n",
       " 'recording08_59_58.wav',\n",
       " 'recording09_00_00.wav']"
      ]
     },
     "execution_count": 24,
     "metadata": {},
     "output_type": "execute_result"
    }
   ],
   "source": [
    "audiopath= 'C:\\\\Users\\\\abisht\\\\VoIPCallLogs_BigDataSet\\\\audiofiles'\n",
    "rdd =  os.listdir(audiopath)\n",
    "rdd"
   ]
  },
  {
   "cell_type": "code",
   "execution_count": 25,
   "id": "910d64b4-1e28-45bc-b397-db15698f803c",
   "metadata": {},
   "outputs": [
    {
     "data": {
      "text/plain": [
       "[datetime.datetime(2022, 5, 31, 18, 28, 40, 715168),\n",
       " datetime.datetime(2022, 5, 31, 18, 28, 45, 266090),\n",
       " datetime.datetime(2022, 5, 31, 18, 33, 6, 522561),\n",
       " datetime.datetime(2022, 5, 31, 18, 33, 2, 669869),\n",
       " datetime.datetime(2022, 5, 31, 18, 28, 49, 364154),\n",
       " datetime.datetime(2022, 5, 31, 18, 28, 53, 829964),\n",
       " datetime.datetime(2022, 5, 31, 8, 42, 14, 791170),\n",
       " datetime.datetime(2022, 5, 31, 8, 44, 13, 870020),\n",
       " datetime.datetime(2022, 5, 31, 8, 44, 19, 818596),\n",
       " datetime.datetime(2022, 5, 31, 8, 46, 27, 27214),\n",
       " datetime.datetime(2022, 5, 31, 8, 47, 10, 246106),\n",
       " datetime.datetime(2022, 5, 31, 8, 47, 12, 717525),\n",
       " datetime.datetime(2022, 5, 31, 8, 59, 59, 821328),\n",
       " datetime.datetime(2022, 5, 31, 9, 0, 1, 652869)]"
      ]
     },
     "execution_count": 25,
     "metadata": {},
     "output_type": "execute_result"
    }
   ],
   "source": [
    "base_list_audio = []\n",
    "for file in os.listdir(audiopath):\n",
    "    # base_df.append(datetime.datetime.fromtimestamp(os.stat(os.path.join(audiopath,file)).st_mtime).timestamp())\n",
    "    base_list_audio.append(datetime.datetime.fromtimestamp(os.stat(os.path.join(audiopath,file)).st_mtime))\n",
    "base_list_audio"
   ]
  },
  {
   "cell_type": "markdown",
   "id": "4cdd5cc1-7d07-4db2-b150-c650c43146ae",
   "metadata": {},
   "source": [
    "## 3.1 Data Wrangling"
   ]
  },
  {
   "cell_type": "code",
   "execution_count": 26,
   "id": "3b25fb5e-c14b-48d2-ab4e-e2238b782d93",
   "metadata": {},
   "outputs": [
    {
     "name": "stdout",
     "output_type": "stream",
     "text": [
      "+--------------------+\n",
      "|           timestamp|\n",
      "+--------------------+\n",
      "|2022-05-31 18:28:...|\n",
      "|2022-05-31 18:28:...|\n",
      "|2022-05-31 18:33:...|\n",
      "|2022-05-31 18:33:...|\n",
      "|2022-05-31 18:28:...|\n",
      "|2022-05-31 18:28:...|\n",
      "|2022-05-31 08:42:...|\n",
      "|2022-05-31 08:44:...|\n",
      "|2022-05-31 08:44:...|\n",
      "|2022-05-31 08:46:...|\n",
      "|2022-05-31 08:47:...|\n",
      "|2022-05-31 08:47:...|\n",
      "|2022-05-31 08:59:...|\n",
      "|2022-05-31 09:00:...|\n",
      "+--------------------+\n",
      "\n"
     ]
    }
   ],
   "source": [
    "from pyspark.sql.functions import col\n",
    "from pyspark.sql.types import TimestampType\n",
    "\n",
    "audio_df = spark.createDataFrame(base_list_audio,TimestampType())\n",
    "audio_df = audio_df.select(col(\"value\").alias(\"timestamp\"))\n",
    "audio_df.show()"
   ]
  },
  {
   "cell_type": "markdown",
   "id": "809ed6a8-ac2f-41ea-8c90-311eb679e050",
   "metadata": {},
   "source": [
    "## 3.2 Finding missing values, Drop or values outside of date range "
   ]
  },
  {
   "cell_type": "code",
   "execution_count": 27,
   "id": "0cf0d2f6-96fc-4006-9ea6-28edde425c32",
   "metadata": {},
   "outputs": [
    {
     "data": {
      "text/plain": [
       "14"
      ]
     },
     "execution_count": 27,
     "metadata": {},
     "output_type": "execute_result"
    }
   ],
   "source": [
    "dates = (\"2019-01-01\",  \"2022-12-31\")\n",
    "# bad_rows_df = logs_df['timestamp'].between(*dates).show(truncate=False)\n",
    "useful_logs_df= audio_df.select(audio_df['timestamp'], audio_df['timestamp'].between(*dates))\n",
    "useful_logs_df.count()"
   ]
  },
  {
   "cell_type": "markdown",
   "id": "143ee62b-ffbb-4a57-bf76-ad1e7fa6e66e",
   "metadata": {},
   "source": [
    "# 4.RDD row to spark dataframe"
   ]
  },
  {
   "cell_type": "code",
   "execution_count": 44,
   "id": "4af05cdc-09c8-470b-8098-5423dfc1a0f3",
   "metadata": {},
   "outputs": [
    {
     "name": "stdout",
     "output_type": "stream",
     "text": [
      "43854\n",
      "root\n",
      " |-- startTime: string (nullable = true)\n",
      " |-- endTime: string (nullable = true)\n",
      " |-- calluuid: string (nullable = true)\n",
      "\n"
     ]
    }
   ],
   "source": [
    "cdr_rdd = cdr_df.rdd\n",
    "parsed_rdd = cdr_rdd.map(lambda r : Row(\\\n",
    "                                        startTime =r[0],\\\n",
    "                                        endTime=r[0],\\\n",
    "                                        calluuid=r[0]))\n",
    "df_cdr = spark.createDataFrame(parsed_rdd)\n",
    "print(df_cdr.count())\n",
    "df_cdr.printSchema()"
   ]
  },
  {
   "cell_type": "code",
   "execution_count": 45,
   "id": "738f1891-5685-4bd8-b721-ec256590c5df",
   "metadata": {},
   "outputs": [
    {
     "name": "stdout",
     "output_type": "stream",
     "text": [
      "961775\n",
      "root\n",
      " |-- startTime: string (nullable = true)\n",
      " |-- endTime: string (nullable = true)\n",
      " |-- calluuid: string (nullable = true)\n",
      "\n"
     ]
    }
   ],
   "source": [
    "new_rdd = logs_df.rdd\n",
    "parsed_rdd = new_rdd.map(lambda r : Row(\\\n",
    "                                        startTime =r[0],\\\n",
    "                                        endTime=r[0],\\\n",
    "                                        calluuid=r[0]))\n",
    "df_log = spark.createDataFrame(parsed_rdd)\n",
    "print(df_log.count())\n",
    "df_log.printSchema()"
   ]
  },
  {
   "cell_type": "code",
   "execution_count": 46,
   "id": "1620ffcb-dbd0-4658-8f36-c970b86fa2d5",
   "metadata": {},
   "outputs": [
    {
     "name": "stdout",
     "output_type": "stream",
     "text": [
      "14\n",
      "root\n",
      " |-- startTime: timestamp (nullable = true)\n",
      " |-- endTime: timestamp (nullable = true)\n",
      " |-- calluuid: timestamp (nullable = true)\n",
      "\n"
     ]
    }
   ],
   "source": [
    "audio_rdd = audio_df.rdd\n",
    "parsed_audio_rdd = audio_rdd.map(lambda r : Row(\\\n",
    "                                        startTime =r[0],\\\n",
    "                                        endTime=r[0],\\\n",
    "                                        calluuid=r[0]))\n",
    "df_audio = spark.createDataFrame(parsed_audio_rdd)\n",
    "print(df_audio.count())\n",
    "df_audio.printSchema()"
   ]
  },
  {
   "cell_type": "markdown",
   "id": "19644a50-8bf3-4bba-8a5c-681f4a8ae23c",
   "metadata": {},
   "source": [
    "## Combine all dataframe "
   ]
  },
  {
   "cell_type": "code",
   "execution_count": 55,
   "id": "8bb76f5b-7374-4da2-a098-d38b0c0394cc",
   "metadata": {},
   "outputs": [
    {
     "name": "stdout",
     "output_type": "stream",
     "text": [
      "<bound method DataFrame.count of DataFrame[startTime: string, endTime: string, calluuid: string]>\n",
      "+-------------------+-------------------+-------------------+\n",
      "|          startTime|            endTime|           calluuid|\n",
      "+-------------------+-------------------+-------------------+\n",
      "|2020-06-14 05:05:07|2020-06-14 05:05:07|2020-06-14 05:05:07|\n",
      "|2020-06-14 05:05:07|2020-06-14 05:05:07|2020-06-14 05:05:07|\n",
      "|2020-06-14 05:05:07|2020-06-14 05:05:07|2020-06-14 05:05:07|\n",
      "|2020-06-14 05:05:07|2020-06-14 05:05:07|2020-06-14 05:05:07|\n",
      "|2020-06-14 05:05:07|2020-06-14 05:05:07|2020-06-14 05:05:07|\n",
      "|2020-06-14 05:05:07|2020-06-14 05:05:07|2020-06-14 05:05:07|\n",
      "|2020-06-14 05:05:07|2020-06-14 05:05:07|2020-06-14 05:05:07|\n",
      "|2020-06-14 05:05:07|2020-06-14 05:05:07|2020-06-14 05:05:07|\n",
      "|2020-06-14 05:05:07|2020-06-14 05:05:07|2020-06-14 05:05:07|\n",
      "|2020-06-14 05:05:07|2020-06-14 05:05:07|2020-06-14 05:05:07|\n",
      "|2020-06-14 05:05:07|2020-06-14 05:05:07|2020-06-14 05:05:07|\n",
      "|2020-06-14 05:05:07|2020-06-14 05:05:07|2020-06-14 05:05:07|\n",
      "|2020-06-14 05:05:07|2020-06-14 05:05:07|2020-06-14 05:05:07|\n",
      "|2020-06-14 05:05:07|2020-06-14 05:05:07|2020-06-14 05:05:07|\n",
      "|2020-06-14 05:05:07|2020-06-14 05:05:07|2020-06-14 05:05:07|\n",
      "|2020-06-14 05:05:07|2020-06-14 05:05:07|2020-06-14 05:05:07|\n",
      "|2020-06-14 05:05:07|2020-06-14 05:05:07|2020-06-14 05:05:07|\n",
      "|2020-06-14 05:05:07|2020-06-14 05:05:07|2020-06-14 05:05:07|\n",
      "|2020-06-14 05:05:07|2020-06-14 05:05:07|2020-06-14 05:05:07|\n",
      "|2020-06-14 05:05:07|2020-06-14 05:05:07|2020-06-14 05:05:07|\n",
      "+-------------------+-------------------+-------------------+\n",
      "only showing top 20 rows\n",
      "\n"
     ]
    }
   ],
   "source": [
    "df = df_log.union(df_cdr).union(df_audio)\n",
    "print(df.count)\n",
    "df.show()"
   ]
  },
  {
   "cell_type": "markdown",
   "id": "955ec745-3d32-473f-9f6b-265b7c790d27",
   "metadata": {},
   "source": [
    "# 5. Daily - Request reponse network traffic "
   ]
  },
  {
   "cell_type": "code",
   "execution_count": 49,
   "id": "7ca3ef9a-7e75-4c72-896c-5afd3d22b67f",
   "metadata": {},
   "outputs": [
    {
     "name": "stdout",
     "output_type": "stream",
     "text": [
      "+-------------------+---+\n",
      "|startTime          |day|\n",
      "+-------------------+---+\n",
      "|2020-06-14 05:05:07|14 |\n",
      "|2020-06-14 05:05:07|14 |\n",
      "|2020-06-14 05:05:07|14 |\n",
      "|2020-06-14 05:05:07|14 |\n",
      "|2020-06-14 05:05:07|14 |\n",
      "+-------------------+---+\n",
      "only showing top 5 rows\n",
      "\n"
     ]
    }
   ],
   "source": [
    "from pyspark.sql import functions as F\n",
    "\n",
    "# find the day of the month\n",
    "daily_traffic_df = df.select(df['startTime'], F.dayofmonth('startTime').alias('day'))\n",
    "daily_traffic_df.show(5, truncate=False)"
   ]
  },
  {
   "cell_type": "code",
   "execution_count": 50,
   "id": "be23d12b-c0ce-4f1e-bb17-9d6619da1756",
   "metadata": {},
   "outputs": [
    {
     "data": {
      "text/html": [
       "<div>\n",
       "<style scoped>\n",
       "    .dataframe tbody tr th:only-of-type {\n",
       "        vertical-align: middle;\n",
       "    }\n",
       "\n",
       "    .dataframe tbody tr th {\n",
       "        vertical-align: top;\n",
       "    }\n",
       "\n",
       "    .dataframe thead th {\n",
       "        text-align: right;\n",
       "    }\n",
       "</style>\n",
       "<table border=\"1\" class=\"dataframe\">\n",
       "  <thead>\n",
       "    <tr style=\"text-align: right;\">\n",
       "      <th></th>\n",
       "      <th>day</th>\n",
       "      <th>count</th>\n",
       "    </tr>\n",
       "  </thead>\n",
       "  <tbody>\n",
       "    <tr>\n",
       "      <th>0</th>\n",
       "      <td>NaN</td>\n",
       "      <td>43776</td>\n",
       "    </tr>\n",
       "    <tr>\n",
       "      <th>1</th>\n",
       "      <td>2.0</td>\n",
       "      <td>17359</td>\n",
       "    </tr>\n",
       "    <tr>\n",
       "      <th>2</th>\n",
       "      <td>13.0</td>\n",
       "      <td>36208</td>\n",
       "    </tr>\n",
       "    <tr>\n",
       "      <th>3</th>\n",
       "      <td>14.0</td>\n",
       "      <td>896605</td>\n",
       "    </tr>\n",
       "    <tr>\n",
       "      <th>4</th>\n",
       "      <td>18.0</td>\n",
       "      <td>31</td>\n",
       "    </tr>\n",
       "    <tr>\n",
       "      <th>...</th>\n",
       "      <td>...</td>\n",
       "      <td>...</td>\n",
       "    </tr>\n",
       "    <tr>\n",
       "      <th>9</th>\n",
       "      <td>23.0</td>\n",
       "      <td>4180</td>\n",
       "    </tr>\n",
       "    <tr>\n",
       "      <th>10</th>\n",
       "      <td>26.0</td>\n",
       "      <td>1264</td>\n",
       "    </tr>\n",
       "    <tr>\n",
       "      <th>11</th>\n",
       "      <td>27.0</td>\n",
       "      <td>1268</td>\n",
       "    </tr>\n",
       "    <tr>\n",
       "      <th>12</th>\n",
       "      <td>28.0</td>\n",
       "      <td>928</td>\n",
       "    </tr>\n",
       "    <tr>\n",
       "      <th>13</th>\n",
       "      <td>31.0</td>\n",
       "      <td>28</td>\n",
       "    </tr>\n",
       "  </tbody>\n",
       "</table>\n",
       "<p>14 rows × 2 columns</p>\n",
       "</div>"
      ],
      "text/plain": [
       "     day   count\n",
       "0    NaN   43776\n",
       "1    2.0   17359\n",
       "2   13.0   36208\n",
       "3   14.0  896605\n",
       "4   18.0      31\n",
       "..   ...     ...\n",
       "9   23.0    4180\n",
       "10  26.0    1264\n",
       "11  27.0    1268\n",
       "12  28.0     928\n",
       "13  31.0      28\n",
       "\n",
       "[14 rows x 2 columns]"
      ]
     },
     "execution_count": 50,
     "metadata": {},
     "output_type": "execute_result"
    }
   ],
   "source": [
    "# Count of calls per day\n",
    "def_mr = pd.get_option('max_rows')\n",
    "pd.set_option('max_rows', 10)\n",
    "\n",
    "daily_df = (daily_traffic_df\n",
    "                     .groupBy('day')\n",
    "                     .count()\n",
    "                     .sort(\"day\"))\n",
    "\n",
    "daily_df = daily_df.toPandas()\n",
    "daily_df"
   ]
  },
  {
   "cell_type": "code",
   "execution_count": 51,
   "id": "eb52b849-1ad4-480e-99bd-81cb8ebfe9bc",
   "metadata": {},
   "outputs": [
    {
     "data": {
      "image/png": "[encoded data removed]",
      "text/plain": [
       "<Figure size 540x360 with 1 Axes>"
      ]
     },
     "metadata": {
      "needs_background": "light"
     },
     "output_type": "display_data"
    }
   ],
   "source": [
    "c = sns.catplot(x='day', y='count',\n",
    "                data=daily_df,\n",
    "                kind='point', height=5,\n",
    "                aspect=1.5)"
   ]
  },
  {
   "cell_type": "markdown",
   "id": "dfee886c-1ccc-4e54-8140-c75a737df7e8",
   "metadata": {},
   "source": [
    "# 6. Hourly - Request reponse network traffic "
   ]
  },
  {
   "cell_type": "code",
   "execution_count": 52,
   "id": "f98a7b9f-8a40-4e05-9ee7-61da79201a02",
   "metadata": {},
   "outputs": [
    {
     "data": {
      "text/html": [
       "<div>\n",
       "<style scoped>\n",
       "    .dataframe tbody tr th:only-of-type {\n",
       "        vertical-align: middle;\n",
       "    }\n",
       "\n",
       "    .dataframe tbody tr th {\n",
       "        vertical-align: top;\n",
       "    }\n",
       "\n",
       "    .dataframe thead th {\n",
       "        text-align: right;\n",
       "    }\n",
       "</style>\n",
       "<table border=\"1\" class=\"dataframe\">\n",
       "  <thead>\n",
       "    <tr style=\"text-align: right;\">\n",
       "      <th></th>\n",
       "      <th>window</th>\n",
       "      <th>count</th>\n",
       "    </tr>\n",
       "  </thead>\n",
       "  <tbody>\n",
       "    <tr>\n",
       "      <th>0</th>\n",
       "      <td>(2020-06-14 05:00:00, 2020-06-14 05:15:00)</td>\n",
       "      <td>144673</td>\n",
       "    </tr>\n",
       "    <tr>\n",
       "      <th>1</th>\n",
       "      <td>(2020-06-14 05:15:00, 2020-06-14 05:30:00)</td>\n",
       "      <td>195734</td>\n",
       "    </tr>\n",
       "    <tr>\n",
       "      <th>2</th>\n",
       "      <td>(2020-06-14 05:30:00, 2020-06-14 05:45:00)</td>\n",
       "      <td>37462</td>\n",
       "    </tr>\n",
       "    <tr>\n",
       "      <th>3</th>\n",
       "      <td>(2020-06-14 06:30:00, 2020-06-14 06:45:00)</td>\n",
       "      <td>33552</td>\n",
       "    </tr>\n",
       "    <tr>\n",
       "      <th>4</th>\n",
       "      <td>(2020-06-14 06:00:00, 2020-06-14 06:15:00)</td>\n",
       "      <td>41820</td>\n",
       "    </tr>\n",
       "    <tr>\n",
       "      <th>...</th>\n",
       "      <td>...</td>\n",
       "      <td>...</td>\n",
       "    </tr>\n",
       "    <tr>\n",
       "      <th>191</th>\n",
       "      <td>(2022-05-31 06:15:00, 2022-05-31 06:30:00)</td>\n",
       "      <td>8</td>\n",
       "    </tr>\n",
       "    <tr>\n",
       "      <th>192</th>\n",
       "      <td>(2022-05-31 06:30:00, 2022-05-31 06:45:00)</td>\n",
       "      <td>4</td>\n",
       "    </tr>\n",
       "    <tr>\n",
       "      <th>193</th>\n",
       "      <td>(2022-05-31 08:30:00, 2022-05-31 08:45:00)</td>\n",
       "      <td>6</td>\n",
       "    </tr>\n",
       "    <tr>\n",
       "      <th>194</th>\n",
       "      <td>(2022-05-31 08:45:00, 2022-05-31 09:00:00)</td>\n",
       "      <td>8</td>\n",
       "    </tr>\n",
       "    <tr>\n",
       "      <th>195</th>\n",
       "      <td>(2022-05-31 09:00:00, 2022-05-31 09:15:00)</td>\n",
       "      <td>2</td>\n",
       "    </tr>\n",
       "  </tbody>\n",
       "</table>\n",
       "<p>196 rows × 2 columns</p>\n",
       "</div>"
      ],
      "text/plain": [
       "                                         window   count\n",
       "0    (2020-06-14 05:00:00, 2020-06-14 05:15:00)  144673\n",
       "1    (2020-06-14 05:15:00, 2020-06-14 05:30:00)  195734\n",
       "2    (2020-06-14 05:30:00, 2020-06-14 05:45:00)   37462\n",
       "3    (2020-06-14 06:30:00, 2020-06-14 06:45:00)   33552\n",
       "4    (2020-06-14 06:00:00, 2020-06-14 06:15:00)   41820\n",
       "..                                          ...     ...\n",
       "191  (2022-05-31 06:15:00, 2022-05-31 06:30:00)       8\n",
       "192  (2022-05-31 06:30:00, 2022-05-31 06:45:00)       4\n",
       "193  (2022-05-31 08:30:00, 2022-05-31 08:45:00)       6\n",
       "194  (2022-05-31 08:45:00, 2022-05-31 09:00:00)       8\n",
       "195  (2022-05-31 09:00:00, 2022-05-31 09:15:00)       2\n",
       "\n",
       "[196 rows x 2 columns]"
      ]
     },
     "execution_count": 52,
     "metadata": {},
     "output_type": "execute_result"
    }
   ],
   "source": [
    "# Count of calls per hour\n",
    "\n",
    "from pyspark.sql.functions import col, count, date_format, date_sub, date_trunc, month, next_day, to_timestamp, weekofyear, window, year\n",
    "\n",
    "def_mr = pd.get_option('max_rows')\n",
    "pd.set_option('max_rows', 10)\n",
    "\n",
    "hourly_df = (daily_traffic_df\n",
    "                     .select(F.date_format('startTime','yyyy-MM-dd hh:mm:ss').alias('timestamp'))\n",
    "                     .groupBy(window('timestamp', \"15 minutes\"))\n",
    "                     .count())\n",
    "# hourly_df= hourly_df.groupBy('startTime', window('startTime', \"5 minutes\")).sum(\"metric\")\n",
    "\n",
    "hourly_df = hourly_df.toPandas()\n",
    "hourly_df"
   ]
  },
  {
   "cell_type": "code",
   "execution_count": 53,
   "id": "32d0f603-4836-4030-ab7e-070902d6ef46",
   "metadata": {},
   "outputs": [
    {
     "data": {
      "text/html": [
       "<div>\n",
       "<style scoped>\n",
       "    .dataframe tbody tr th:only-of-type {\n",
       "        vertical-align: middle;\n",
       "    }\n",
       "\n",
       "    .dataframe tbody tr th {\n",
       "        vertical-align: top;\n",
       "    }\n",
       "\n",
       "    .dataframe thead th {\n",
       "        text-align: right;\n",
       "    }\n",
       "</style>\n",
       "<table border=\"1\" class=\"dataframe\">\n",
       "  <thead>\n",
       "    <tr style=\"text-align: right;\">\n",
       "      <th></th>\n",
       "      <th>count</th>\n",
       "      <th>start</th>\n",
       "    </tr>\n",
       "  </thead>\n",
       "  <tbody>\n",
       "    <tr>\n",
       "      <th>0</th>\n",
       "      <td>144673</td>\n",
       "      <td>2020-06-14 05:00:00</td>\n",
       "    </tr>\n",
       "    <tr>\n",
       "      <th>1</th>\n",
       "      <td>195734</td>\n",
       "      <td>2020-06-14 05:15:00</td>\n",
       "    </tr>\n",
       "    <tr>\n",
       "      <th>2</th>\n",
       "      <td>37462</td>\n",
       "      <td>2020-06-14 05:30:00</td>\n",
       "    </tr>\n",
       "    <tr>\n",
       "      <th>3</th>\n",
       "      <td>33552</td>\n",
       "      <td>2020-06-14 06:30:00</td>\n",
       "    </tr>\n",
       "    <tr>\n",
       "      <th>4</th>\n",
       "      <td>41820</td>\n",
       "      <td>2020-06-14 06:00:00</td>\n",
       "    </tr>\n",
       "    <tr>\n",
       "      <th>...</th>\n",
       "      <td>...</td>\n",
       "      <td>...</td>\n",
       "    </tr>\n",
       "    <tr>\n",
       "      <th>191</th>\n",
       "      <td>8</td>\n",
       "      <td>2022-05-31 06:15:00</td>\n",
       "    </tr>\n",
       "    <tr>\n",
       "      <th>192</th>\n",
       "      <td>4</td>\n",
       "      <td>2022-05-31 06:30:00</td>\n",
       "    </tr>\n",
       "    <tr>\n",
       "      <th>193</th>\n",
       "      <td>6</td>\n",
       "      <td>2022-05-31 08:30:00</td>\n",
       "    </tr>\n",
       "    <tr>\n",
       "      <th>194</th>\n",
       "      <td>8</td>\n",
       "      <td>2022-05-31 08:45:00</td>\n",
       "    </tr>\n",
       "    <tr>\n",
       "      <th>195</th>\n",
       "      <td>2</td>\n",
       "      <td>2022-05-31 09:00:00</td>\n",
       "    </tr>\n",
       "  </tbody>\n",
       "</table>\n",
       "<p>196 rows × 2 columns</p>\n",
       "</div>"
      ],
      "text/plain": [
       "      count               start\n",
       "0    144673 2020-06-14 05:00:00\n",
       "1    195734 2020-06-14 05:15:00\n",
       "2     37462 2020-06-14 05:30:00\n",
       "3     33552 2020-06-14 06:30:00\n",
       "4     41820 2020-06-14 06:00:00\n",
       "..      ...                 ...\n",
       "191       8 2022-05-31 06:15:00\n",
       "192       4 2022-05-31 06:30:00\n",
       "193       6 2022-05-31 08:30:00\n",
       "194       8 2022-05-31 08:45:00\n",
       "195       2 2022-05-31 09:00:00\n",
       "\n",
       "[196 rows x 2 columns]"
      ]
     },
     "execution_count": 53,
     "metadata": {},
     "output_type": "execute_result"
    }
   ],
   "source": [
    "window_start = hourly_df['window'].map(lambda r : Row(start =r[0]))\n",
    "window_start= spark.createDataFrame(window_start).toPandas()\n",
    "hourly_df[\"start\"]=window_start\n",
    "hourly_df.drop(columns=[\"window\"], inplace=True)\n",
    "hourly_df"
   ]
  },
  {
   "cell_type": "code",
   "execution_count": 54,
   "id": "7f155eb4-8309-43e7-89ef-d591cbbde428",
   "metadata": {},
   "outputs": [
    {
     "data": {
      "text/plain": [
       "<seaborn.axisgrid.FacetGrid at 0x26a909651c0>"
      ]
     },
     "execution_count": 54,
     "metadata": {},
     "output_type": "execute_result"
    },
    {
     "data": {
      "text/plain": [
       "<Figure size 432x360 with 0 Axes>"
      ]
     },
     "metadata": {},
     "output_type": "display_data"
    },
    {
     "data": {
      "image/png": "[encoded data removed]",
      "text/plain": [
       "<Figure size 1296x216 with 1 Axes>"
      ]
     },
     "metadata": {
      "needs_background": "light"
     },
     "output_type": "display_data"
    }
   ],
   "source": [
    "plt.figure(figsize=(6,5))\n",
    "chart = sns.catplot(x='start', y='count',\n",
    "                data=hourly_df,\n",
    "                kind='bar', height=3, aspect=6)\n",
    "chart.set_xticklabels(rotation=65, horizontalalignment='right')"
   ]
  },
  {
   "cell_type": "markdown",
   "id": "31df5ccb-33fb-4b3e-9309-8a4b9be40699",
   "metadata": {},
   "source": [
    "# 7. Energy consumption  and Carbon Footprint"
   ]
  },
  {
   "cell_type": "code",
   "execution_count": 61,
   "id": "b1b01c23-a610-4fa2-a7e6-6da05a6bb438",
   "metadata": {},
   "outputs": [],
   "source": [
    "from carbonfootprint.carbon import Carbon\n",
    "from carbonfootprint.fuelmix import Fuelmix\n",
    "# furlpercent_obj = carbonfp.power_utilities.Fuelmix(\"north_west\")"
   ]
  },
  {
   "cell_type": "code",
   "execution_count": 72,
   "id": "d096c5bd-dfda-4c67-9cbb-64c68893284c",
   "metadata": {},
   "outputs": [],
   "source": [
    "column_list = (\"Wind\",    \"Solar\",  \"Hydro\",  \"Other\",    \"Petroleum\",  \"Natural gas\", \"Coal\",     \"Nuclear\",  \"Battery\", \"Imports\")\n",
    "column_list_carbon = [ \"carbon_\"+sub + \"(kgeCO2)\" for sub in column_list]"
   ]
  },
  {
   "cell_type": "markdown",
   "id": "bb98f89f-dd0f-48f1-842d-a48ec1695eb2",
   "metadata": {},
   "source": [
    "## 7.1 Energy consumption "
   ]
  },
  {
   "cell_type": "code",
   "execution_count": 80,
   "id": "27ebd091-d290-4b17-ba26-2dbdf4da160f",
   "metadata": {},
   "outputs": [
    {
     "data": {
      "text/html": [
       "<div>\n",
       "<style scoped>\n",
       "    .dataframe tbody tr th:only-of-type {\n",
       "        vertical-align: middle;\n",
       "    }\n",
       "\n",
       "    .dataframe tbody tr th {\n",
       "        vertical-align: top;\n",
       "    }\n",
       "\n",
       "    .dataframe thead th {\n",
       "        text-align: right;\n",
       "    }\n",
       "</style>\n",
       "<table border=\"1\" class=\"dataframe\">\n",
       "  <thead>\n",
       "    <tr style=\"text-align: right;\">\n",
       "      <th></th>\n",
       "      <th>count</th>\n",
       "      <th>start</th>\n",
       "      <th>energyConsumption(kWh)</th>\n",
       "      <th>power(W)</th>\n",
       "      <th>Wind(W)</th>\n",
       "      <th>Solar(W)</th>\n",
       "      <th>Hydro(W)</th>\n",
       "      <th>Other(W)</th>\n",
       "      <th>Petroleum(W)</th>\n",
       "      <th>Natural gas(W)</th>\n",
       "      <th>...</th>\n",
       "      <th>carbon_Solar(kgeCO2)</th>\n",
       "      <th>carbon_Hydro(kgeCO2)</th>\n",
       "      <th>carbon_Other(kgeCO2)</th>\n",
       "      <th>carbon_Petroleum(kgeCO2)</th>\n",
       "      <th>carbon_Natural gas(kgeCO2)</th>\n",
       "      <th>carbon_Coal(kgeCO2)</th>\n",
       "      <th>carbon_Nuclear(kgeCO2)</th>\n",
       "      <th>carbon_Battery(kgeCO2)</th>\n",
       "      <th>carbon_Imports(kgeCO2)</th>\n",
       "      <th>carbon_total(kgeCO2)</th>\n",
       "    </tr>\n",
       "  </thead>\n",
       "  <tbody>\n",
       "    <tr>\n",
       "      <th>0</th>\n",
       "      <td>144673</td>\n",
       "      <td>2020-06-14 05:00:00</td>\n",
       "      <td>57869.2</td>\n",
       "      <td>964.486667</td>\n",
       "      <td>18.542885</td>\n",
       "      <td>0.384973</td>\n",
       "      <td>25.472406</td>\n",
       "      <td>47.929187</td>\n",
       "      <td>2.951463</td>\n",
       "      <td>660.486013</td>\n",
       "      <td>...</td>\n",
       "      <td>0.000018</td>\n",
       "      <td>0.000611</td>\n",
       "      <td>0.001150</td>\n",
       "      <td>0.001446</td>\n",
       "      <td>0.323638</td>\n",
       "      <td>0.051456</td>\n",
       "      <td>0.001752</td>\n",
       "      <td>0.0</td>\n",
       "      <td>0.0</td>\n",
       "      <td>0.380294</td>\n",
       "    </tr>\n",
       "    <tr>\n",
       "      <th>1</th>\n",
       "      <td>195734</td>\n",
       "      <td>2020-06-14 05:15:00</td>\n",
       "      <td>78293.6</td>\n",
       "      <td>1304.893333</td>\n",
       "      <td>29.522074</td>\n",
       "      <td>0.441947</td>\n",
       "      <td>26.870390</td>\n",
       "      <td>66.292082</td>\n",
       "      <td>8.043439</td>\n",
       "      <td>904.754329</td>\n",
       "      <td>...</td>\n",
       "      <td>0.000021</td>\n",
       "      <td>0.000645</td>\n",
       "      <td>0.001591</td>\n",
       "      <td>0.003941</td>\n",
       "      <td>0.443330</td>\n",
       "      <td>0.055882</td>\n",
       "      <td>0.002410</td>\n",
       "      <td>0.0</td>\n",
       "      <td>0.0</td>\n",
       "      <td>0.508174</td>\n",
       "    </tr>\n",
       "    <tr>\n",
       "      <th>2</th>\n",
       "      <td>37462</td>\n",
       "      <td>2020-06-14 05:30:00</td>\n",
       "      <td>14984.8</td>\n",
       "      <td>249.746667</td>\n",
       "      <td>11.652588</td>\n",
       "      <td>0.089087</td>\n",
       "      <td>4.614710</td>\n",
       "      <td>13.345242</td>\n",
       "      <td>1.603567</td>\n",
       "      <td>166.076099</td>\n",
       "      <td>...</td>\n",
       "      <td>0.000004</td>\n",
       "      <td>0.000111</td>\n",
       "      <td>0.000320</td>\n",
       "      <td>0.000786</td>\n",
       "      <td>0.081377</td>\n",
       "      <td>0.009716</td>\n",
       "      <td>0.000486</td>\n",
       "      <td>0.0</td>\n",
       "      <td>0.0</td>\n",
       "      <td>0.092940</td>\n",
       "    </tr>\n",
       "    <tr>\n",
       "      <th>3</th>\n",
       "      <td>33552</td>\n",
       "      <td>2020-06-14 06:30:00</td>\n",
       "      <td>13420.8</td>\n",
       "      <td>223.680000</td>\n",
       "      <td>8.774703</td>\n",
       "      <td>0.066601</td>\n",
       "      <td>3.446610</td>\n",
       "      <td>12.570969</td>\n",
       "      <td>1.515176</td>\n",
       "      <td>148.603841</td>\n",
       "      <td>...</td>\n",
       "      <td>0.000003</td>\n",
       "      <td>0.000083</td>\n",
       "      <td>0.000302</td>\n",
       "      <td>0.000742</td>\n",
       "      <td>0.072816</td>\n",
       "      <td>0.008888</td>\n",
       "      <td>0.000454</td>\n",
       "      <td>0.0</td>\n",
       "      <td>0.0</td>\n",
       "      <td>0.083394</td>\n",
       "    </tr>\n",
       "    <tr>\n",
       "      <th>4</th>\n",
       "      <td>41820</td>\n",
       "      <td>2020-06-14 06:00:00</td>\n",
       "      <td>16728.0</td>\n",
       "      <td>278.800000</td>\n",
       "      <td>17.253357</td>\n",
       "      <td>0.083856</td>\n",
       "      <td>4.297616</td>\n",
       "      <td>15.848771</td>\n",
       "      <td>1.886758</td>\n",
       "      <td>178.151921</td>\n",
       "      <td>...</td>\n",
       "      <td>0.000004</td>\n",
       "      <td>0.000103</td>\n",
       "      <td>0.000380</td>\n",
       "      <td>0.000925</td>\n",
       "      <td>0.087294</td>\n",
       "      <td>0.011191</td>\n",
       "      <td>0.000572</td>\n",
       "      <td>0.0</td>\n",
       "      <td>0.0</td>\n",
       "      <td>0.100676</td>\n",
       "    </tr>\n",
       "  </tbody>\n",
       "</table>\n",
       "<p>5 rows × 26 columns</p>\n",
       "</div>"
      ],
      "text/plain": [
       "    count               start  energyConsumption(kWh)     power(W)    Wind(W)  \\\n",
       "0  144673 2020-06-14 05:00:00                 57869.2   964.486667  18.542885   \n",
       "1  195734 2020-06-14 05:15:00                 78293.6  1304.893333  29.522074   \n",
       "2   37462 2020-06-14 05:30:00                 14984.8   249.746667  11.652588   \n",
       "3   33552 2020-06-14 06:30:00                 13420.8   223.680000   8.774703   \n",
       "4   41820 2020-06-14 06:00:00                 16728.0   278.800000  17.253357   \n",
       "\n",
       "   Solar(W)   Hydro(W)   Other(W)  Petroleum(W)  Natural gas(W)  ...  \\\n",
       "0  0.384973  25.472406  47.929187      2.951463      660.486013  ...   \n",
       "1  0.441947  26.870390  66.292082      8.043439      904.754329  ...   \n",
       "2  0.089087   4.614710  13.345242      1.603567      166.076099  ...   \n",
       "3  0.066601   3.446610  12.570969      1.515176      148.603841  ...   \n",
       "4  0.083856   4.297616  15.848771      1.886758      178.151921  ...   \n",
       "\n",
       "   carbon_Solar(kgeCO2)  carbon_Hydro(kgeCO2)  carbon_Other(kgeCO2)  \\\n",
       "0              0.000018              0.000611              0.001150   \n",
       "1              0.000021              0.000645              0.001591   \n",
       "2              0.000004              0.000111              0.000320   \n",
       "3              0.000003              0.000083              0.000302   \n",
       "4              0.000004              0.000103              0.000380   \n",
       "\n",
       "   carbon_Petroleum(kgeCO2)  carbon_Natural gas(kgeCO2)  carbon_Coal(kgeCO2)  \\\n",
       "0                  0.001446                    0.323638             0.051456   \n",
       "1                  0.003941                    0.443330             0.055882   \n",
       "2                  0.000786                    0.081377             0.009716   \n",
       "3                  0.000742                    0.072816             0.008888   \n",
       "4                  0.000925                    0.087294             0.011191   \n",
       "\n",
       "   carbon_Nuclear(kgeCO2)  carbon_Battery(kgeCO2)  carbon_Imports(kgeCO2)  \\\n",
       "0                0.001752                     0.0                     0.0   \n",
       "1                0.002410                     0.0                     0.0   \n",
       "2                0.000486                     0.0                     0.0   \n",
       "3                0.000454                     0.0                     0.0   \n",
       "4                0.000572                     0.0                     0.0   \n",
       "\n",
       "   carbon_total(kgeCO2)  \n",
       "0              0.380294  \n",
       "1              0.508174  \n",
       "2              0.092940  \n",
       "3              0.083394  \n",
       "4              0.100676  \n",
       "\n",
       "[5 rows x 26 columns]"
      ]
     },
     "execution_count": 80,
     "metadata": {},
     "output_type": "execute_result"
    }
   ],
   "source": [
    "hourly_df[\"energyConsumption(kWh)\"] = hourly_df[\"count\"]*0.4\n",
    "hourly_df[\"power(W)\"]= hourly_df[\"energyConsumption(kWh)\"]/60\n",
    "hourly_df.head()"
   ]
  },
  {
   "cell_type": "code",
   "execution_count": 81,
   "id": "81eef91b-372f-4709-8016-e059bb72ba22",
   "metadata": {},
   "outputs": [
    {
     "name": "stdout",
     "output_type": "stream",
     "text": [
      "    count               start  energyConsumption(kWh)     power(W)    Wind(W)  \\\n",
      "0  144673 2020-06-14 05:00:00                 57869.2   964.486667  18.542885   \n",
      "1  195734 2020-06-14 05:15:00                 78293.6  1304.893333  29.522074   \n",
      "2   37462 2020-06-14 05:30:00                 14984.8   249.746667  11.652588   \n",
      "3   33552 2020-06-14 06:30:00                 13420.8   223.680000   8.774703   \n",
      "4   41820 2020-06-14 06:00:00                 16728.0   278.800000  17.253357   \n",
      "\n",
      "   Solar(W)   Hydro(W)   Other(W)  Petroleum(W)  Natural gas(W)  ...  \\\n",
      "0  0.384973  25.472406  47.929187      2.951463      660.486013  ...   \n",
      "1  0.441947  26.870390  66.292082      8.043439      904.754329  ...   \n",
      "2  0.089087   4.614710  13.345242      1.603567      166.076099  ...   \n",
      "3  0.066601   3.446610  12.570969      1.515176      148.603841  ...   \n",
      "4  0.083856   4.297616  15.848771      1.886758      178.151921  ...   \n",
      "\n",
      "   carbon_Solar(kgeCO2)  carbon_Hydro(kgeCO2)  carbon_Other(kgeCO2)  \\\n",
      "0              0.000018              0.000611              0.001150   \n",
      "1              0.000021              0.000645              0.001591   \n",
      "2              0.000004              0.000111              0.000320   \n",
      "3              0.000003              0.000083              0.000302   \n",
      "4              0.000004              0.000103              0.000380   \n",
      "\n",
      "   carbon_Petroleum(kgeCO2)  carbon_Natural gas(kgeCO2)  carbon_Coal(kgeCO2)  \\\n",
      "0                  0.001446                    0.323638             0.051456   \n",
      "1                  0.003941                    0.443330             0.055882   \n",
      "2                  0.000786                    0.081377             0.009716   \n",
      "3                  0.000742                    0.072816             0.008888   \n",
      "4                  0.000925                    0.087294             0.011191   \n",
      "\n",
      "   carbon_Nuclear(kgeCO2)  carbon_Battery(kgeCO2)  carbon_Imports(kgeCO2)  \\\n",
      "0                0.001752                     0.0                     0.0   \n",
      "1                0.002410                     0.0                     0.0   \n",
      "2                0.000486                     0.0                     0.0   \n",
      "3                0.000454                     0.0                     0.0   \n",
      "4                0.000572                     0.0                     0.0   \n",
      "\n",
      "   carbon_total(kgeCO2)  \n",
      "0              0.380294  \n",
      "1              0.508174  \n",
      "2              0.092940  \n",
      "3              0.083394  \n",
      "4              0.100676  \n",
      "\n",
      "[5 rows x 26 columns]\n",
      "utility_fuelmix filenames C:\\Users\\abisht\\Anaconda3\\lib\\site-packages\\carbonfootprint\\dataset/north_west2020/*.csv\n",
      "  Region Code Timestamp (Hour Ending)  Wind Generation (MWh)  \\\n",
      "0          NW    1/1/2020 12 a.m. PST                   7689   \n",
      "1          NW     1/1/2020 1 a.m. PST                   7751   \n",
      "2          NW     1/1/2020 2 a.m. PST                   7269   \n",
      "3          NW     1/1/2020 3 a.m. PST                   6892   \n",
      "4          NW     1/1/2020 4 a.m. PST                   6526   \n",
      "\n",
      "   Solar Generation (MWh)  Hydro Generation (MWh)  Other Generation (MWh)  \\\n",
      "0                      -1                    9348                    1013   \n",
      "1                      -2                    8920                    1045   \n",
      "2                       1                    8590                    1063   \n",
      "3                       0                    8941                    1047   \n",
      "4                      -1                    8779                    1043   \n",
      "\n",
      "   Petroleum Generation (MWh)  Natural gas Generation (MWh)  \\\n",
      "0                          60                          8627   \n",
      "1                          60                          8576   \n",
      "2                          59                          8618   \n",
      "3                          60                          8627   \n",
      "4                          59                          8748   \n",
      "\n",
      "   Coal Generation (MWh)  Nuclear Generation (MWh)  ... Wind Generation (%)  \\\n",
      "0                  11650                      1150  ...           19.448098   \n",
      "1                  11273                      1152  ...           19.989684   \n",
      "2                  11142                      1152  ...           19.182456   \n",
      "3                  10815                      1149  ...           18.363486   \n",
      "4                  10973                      1147  ...           17.508183   \n",
      "\n",
      "   Solar Generation (%)  Hydro Generation (%)  Other Generation (%)  \\\n",
      "0             -0.002529             23.644274              2.562222   \n",
      "1             -0.005158             23.004513              2.695035   \n",
      "2              0.002639             22.668496              2.805193   \n",
      "3              0.000000             23.822973              2.789694   \n",
      "4             -0.002683             23.552610              2.798197   \n",
      "\n",
      "   Petroleum Generation (%)  Natural gas Generation (%)  Coal Generation (%)  \\\n",
      "0                  0.151760                   21.820619            29.466815   \n",
      "1                  0.154739                   22.117344            29.072856   \n",
      "2                  0.155697                   22.742387            29.403072   \n",
      "3                  0.159868                   22.986331            28.816179   \n",
      "4                  0.158287                   23.469443            29.438751   \n",
      "\n",
      "   Nuclear Generation (%)  Battery Generation (%)  Imports Generation (%)  \n",
      "0                2.908741                     0.0                     0.0  \n",
      "1                2.970986                     0.0                     0.0  \n",
      "2                3.040059                     0.0                     0.0  \n",
      "3                3.061469                     0.0                     0.0  \n",
      "4                3.077212                     0.0                     0.0  \n",
      "\n",
      "[5 rows x 24 columns]\n"
     ]
    }
   ],
   "source": [
    "region =\"north_west\"\n",
    "furlpercent_obj = Fuelmix(region)\n",
    "df_hourly_fuelmix = furlpercent_obj.calculate_fuelmixbypercent(hourly_df)"
   ]
  },
  {
   "cell_type": "markdown",
   "id": "171b6d5c-313a-4ab4-b47c-416aeae475be",
   "metadata": {},
   "source": [
    "## 7.2 Carbon Emission "
   ]
  },
  {
   "cell_type": "code",
   "execution_count": 82,
   "id": "2393af1f-8a51-422b-9b95-c11b19abeefc",
   "metadata": {},
   "outputs": [
    {
     "data": {
      "text/html": [
       "<div>\n",
       "<style scoped>\n",
       "    .dataframe tbody tr th:only-of-type {\n",
       "        vertical-align: middle;\n",
       "    }\n",
       "\n",
       "    .dataframe tbody tr th {\n",
       "        vertical-align: top;\n",
       "    }\n",
       "\n",
       "    .dataframe thead th {\n",
       "        text-align: right;\n",
       "    }\n",
       "</style>\n",
       "<table border=\"1\" class=\"dataframe\">\n",
       "  <thead>\n",
       "    <tr style=\"text-align: right;\">\n",
       "      <th></th>\n",
       "      <th>count</th>\n",
       "      <th>start</th>\n",
       "      <th>energyConsumption(kWh)</th>\n",
       "      <th>power(W)</th>\n",
       "      <th>Wind(W)</th>\n",
       "      <th>Solar(W)</th>\n",
       "      <th>Hydro(W)</th>\n",
       "      <th>Other(W)</th>\n",
       "      <th>Petroleum(W)</th>\n",
       "      <th>Natural gas(W)</th>\n",
       "      <th>...</th>\n",
       "      <th>carbon_Solar(kgeCO2)</th>\n",
       "      <th>carbon_Hydro(kgeCO2)</th>\n",
       "      <th>carbon_Other(kgeCO2)</th>\n",
       "      <th>carbon_Petroleum(kgeCO2)</th>\n",
       "      <th>carbon_Natural gas(kgeCO2)</th>\n",
       "      <th>carbon_Coal(kgeCO2)</th>\n",
       "      <th>carbon_Nuclear(kgeCO2)</th>\n",
       "      <th>carbon_Battery(kgeCO2)</th>\n",
       "      <th>carbon_Imports(kgeCO2)</th>\n",
       "      <th>carbon_total(kgeCO2)</th>\n",
       "    </tr>\n",
       "  </thead>\n",
       "  <tbody>\n",
       "    <tr>\n",
       "      <th>0</th>\n",
       "      <td>144673</td>\n",
       "      <td>2020-06-14 05:00:00</td>\n",
       "      <td>57869.2</td>\n",
       "      <td>964.486667</td>\n",
       "      <td>187.574312</td>\n",
       "      <td>-0.024395</td>\n",
       "      <td>228.045866</td>\n",
       "      <td>24.712287</td>\n",
       "      <td>1.463709</td>\n",
       "      <td>210.456963</td>\n",
       "      <td>...</td>\n",
       "      <td>-1.170967e-06</td>\n",
       "      <td>0.005473</td>\n",
       "      <td>0.000593</td>\n",
       "      <td>0.000717</td>\n",
       "      <td>0.103124</td>\n",
       "      <td>0.233047</td>\n",
       "      <td>0.000337</td>\n",
       "      <td>0.0</td>\n",
       "      <td>0.0</td>\n",
       "      <td>0.345541</td>\n",
       "    </tr>\n",
       "    <tr>\n",
       "      <th>1</th>\n",
       "      <td>195734</td>\n",
       "      <td>2020-06-14 05:15:00</td>\n",
       "      <td>78293.6</td>\n",
       "      <td>1304.893333</td>\n",
       "      <td>260.844055</td>\n",
       "      <td>-0.067306</td>\n",
       "      <td>300.184359</td>\n",
       "      <td>35.167338</td>\n",
       "      <td>2.019177</td>\n",
       "      <td>288.607743</td>\n",
       "      <td>...</td>\n",
       "      <td>-3.230684e-06</td>\n",
       "      <td>0.007204</td>\n",
       "      <td>0.000844</td>\n",
       "      <td>0.000989</td>\n",
       "      <td>0.141418</td>\n",
       "      <td>0.311083</td>\n",
       "      <td>0.000465</td>\n",
       "      <td>0.0</td>\n",
       "      <td>0.0</td>\n",
       "      <td>0.465131</td>\n",
       "    </tr>\n",
       "    <tr>\n",
       "      <th>2</th>\n",
       "      <td>37462</td>\n",
       "      <td>2020-06-14 05:30:00</td>\n",
       "      <td>14984.8</td>\n",
       "      <td>249.746667</td>\n",
       "      <td>47.907545</td>\n",
       "      <td>0.006591</td>\n",
       "      <td>56.613814</td>\n",
       "      <td>7.005877</td>\n",
       "      <td>0.388849</td>\n",
       "      <td>56.798353</td>\n",
       "      <td>...</td>\n",
       "      <td>3.163519e-07</td>\n",
       "      <td>0.001359</td>\n",
       "      <td>0.000168</td>\n",
       "      <td>0.000191</td>\n",
       "      <td>0.027831</td>\n",
       "      <td>0.060215</td>\n",
       "      <td>0.000091</td>\n",
       "      <td>0.0</td>\n",
       "      <td>0.0</td>\n",
       "      <td>0.090430</td>\n",
       "    </tr>\n",
       "    <tr>\n",
       "      <th>3</th>\n",
       "      <td>33552</td>\n",
       "      <td>2020-06-14 06:30:00</td>\n",
       "      <td>13420.8</td>\n",
       "      <td>223.680000</td>\n",
       "      <td>41.075446</td>\n",
       "      <td>0.000000</td>\n",
       "      <td>53.287226</td>\n",
       "      <td>6.239987</td>\n",
       "      <td>0.357592</td>\n",
       "      <td>51.415826</td>\n",
       "      <td>...</td>\n",
       "      <td>0.000000e+00</td>\n",
       "      <td>0.001279</td>\n",
       "      <td>0.000150</td>\n",
       "      <td>0.000175</td>\n",
       "      <td>0.025194</td>\n",
       "      <td>0.052854</td>\n",
       "      <td>0.000082</td>\n",
       "      <td>0.0</td>\n",
       "      <td>0.0</td>\n",
       "      <td>0.080227</td>\n",
       "    </tr>\n",
       "    <tr>\n",
       "      <th>4</th>\n",
       "      <td>41820</td>\n",
       "      <td>2020-06-14 06:00:00</td>\n",
       "      <td>16728.0</td>\n",
       "      <td>278.800000</td>\n",
       "      <td>48.812813</td>\n",
       "      <td>-0.007480</td>\n",
       "      <td>65.664678</td>\n",
       "      <td>7.801374</td>\n",
       "      <td>0.441305</td>\n",
       "      <td>65.432806</td>\n",
       "      <td>...</td>\n",
       "      <td>-3.590277e-07</td>\n",
       "      <td>0.001576</td>\n",
       "      <td>0.000187</td>\n",
       "      <td>0.000216</td>\n",
       "      <td>0.032062</td>\n",
       "      <td>0.067302</td>\n",
       "      <td>0.000103</td>\n",
       "      <td>0.0</td>\n",
       "      <td>0.0</td>\n",
       "      <td>0.102032</td>\n",
       "    </tr>\n",
       "  </tbody>\n",
       "</table>\n",
       "<p>5 rows × 26 columns</p>\n",
       "</div>"
      ],
      "text/plain": [
       "    count               start  energyConsumption(kWh)     power(W)  \\\n",
       "0  144673 2020-06-14 05:00:00                 57869.2   964.486667   \n",
       "1  195734 2020-06-14 05:15:00                 78293.6  1304.893333   \n",
       "2   37462 2020-06-14 05:30:00                 14984.8   249.746667   \n",
       "3   33552 2020-06-14 06:30:00                 13420.8   223.680000   \n",
       "4   41820 2020-06-14 06:00:00                 16728.0   278.800000   \n",
       "\n",
       "      Wind(W)  Solar(W)    Hydro(W)   Other(W)  Petroleum(W)  Natural gas(W)  \\\n",
       "0  187.574312 -0.024395  228.045866  24.712287      1.463709      210.456963   \n",
       "1  260.844055 -0.067306  300.184359  35.167338      2.019177      288.607743   \n",
       "2   47.907545  0.006591   56.613814   7.005877      0.388849       56.798353   \n",
       "3   41.075446  0.000000   53.287226   6.239987      0.357592       51.415826   \n",
       "4   48.812813 -0.007480   65.664678   7.801374      0.441305       65.432806   \n",
       "\n",
       "   ...  carbon_Solar(kgeCO2)  carbon_Hydro(kgeCO2)  carbon_Other(kgeCO2)  \\\n",
       "0  ...         -1.170967e-06              0.005473              0.000593   \n",
       "1  ...         -3.230684e-06              0.007204              0.000844   \n",
       "2  ...          3.163519e-07              0.001359              0.000168   \n",
       "3  ...          0.000000e+00              0.001279              0.000150   \n",
       "4  ...         -3.590277e-07              0.001576              0.000187   \n",
       "\n",
       "   carbon_Petroleum(kgeCO2)  carbon_Natural gas(kgeCO2)  carbon_Coal(kgeCO2)  \\\n",
       "0                  0.000717                    0.103124             0.233047   \n",
       "1                  0.000989                    0.141418             0.311083   \n",
       "2                  0.000191                    0.027831             0.060215   \n",
       "3                  0.000175                    0.025194             0.052854   \n",
       "4                  0.000216                    0.032062             0.067302   \n",
       "\n",
       "   carbon_Nuclear(kgeCO2)  carbon_Battery(kgeCO2)  carbon_Imports(kgeCO2)  \\\n",
       "0                0.000337                     0.0                     0.0   \n",
       "1                0.000465                     0.0                     0.0   \n",
       "2                0.000091                     0.0                     0.0   \n",
       "3                0.000082                     0.0                     0.0   \n",
       "4                0.000103                     0.0                     0.0   \n",
       "\n",
       "   carbon_total(kgeCO2)  \n",
       "0              0.345541  \n",
       "1              0.465131  \n",
       "2              0.090430  \n",
       "3              0.080227  \n",
       "4              0.102032  \n",
       "\n",
       "[5 rows x 26 columns]"
      ]
     },
     "execution_count": 82,
     "metadata": {},
     "output_type": "execute_result"
    }
   ],
   "source": [
    "carbonemissio_pbj = Carbon()\n",
    "hourly_fuelmix_carbon = carbonemissio_pbj.calculate_carbonemission(df_hourly_fuelmix)\n",
    "hourly_fuelmix_carbon.head()"
   ]
  },
  {
   "cell_type": "code",
   "execution_count": 83,
   "id": "651c8592-bdd6-40c8-b65d-334b8f3e91d7",
   "metadata": {},
   "outputs": [
    {
     "data": {
      "text/plain": [
       "Text(0, 0.5, 'Carbon Emission (kgCO2eq)')"
      ]
     },
     "execution_count": 83,
     "metadata": {},
     "output_type": "execute_result"
    },
    {
     "data": {
      "image/png": "[encoded data removed]",
      "text/plain": [
       "<Figure size 1080x432 with 1 Axes>"
      ]
     },
     "metadata": {
      "needs_background": "light"
     },
     "output_type": "display_data"
    }
   ],
   "source": [
    "fig, ax = plt.subplots()\n",
    "fig.set_size_inches(15, 6)\n",
    "hourly_fuelmix_carbon.plot( \n",
    "    # x = \"DateTime24\",\n",
    "    y = np.array(column_list_carbon),\n",
    "    title = \"Carbon Emission in utility \"+ region ,\n",
    "    ax=ax) \n",
    "\n",
    "ax.set_xlabel(\"Timestamp\")\n",
    "ax.set_ylabel(\"Carbon Emission (kgCO2eq)\")"
   ]
  },
  {
   "cell_type": "markdown",
   "id": "6d543c24-86d6-41e3-a534-4c824b1a609e",
   "metadata": {},
   "source": [
    "## CAISO"
   ]
  },
  {
   "cell_type": "code",
   "execution_count": 79,
   "id": "32993063-1836-46a3-8970-24d2e9676147",
   "metadata": {},
   "outputs": [
    {
     "name": "stdout",
     "output_type": "stream",
     "text": [
      "    count               start  energyConsumption(kWh)     power(W)    Wind(W)  \\\n",
      "0  144673 2020-06-14 05:00:00                 57869.2   964.486667  18.542885   \n",
      "1  195734 2020-06-14 05:15:00                 78293.6  1304.893333  29.522074   \n",
      "2   37462 2020-06-14 05:30:00                 14984.8   249.746667  11.652588   \n",
      "3   33552 2020-06-14 06:30:00                 13420.8   223.680000   8.774703   \n",
      "4   41820 2020-06-14 06:00:00                 16728.0   278.800000  17.253357   \n",
      "\n",
      "   Solar(W)   Hydro(W)   Other(W)  Petroleum(W)  Natural gas(W)  ...  \\\n",
      "0  0.384973  25.472406  47.929187      2.951463      660.486013  ...   \n",
      "1  0.441947  26.870390  66.292082      8.043439      904.754329  ...   \n",
      "2  0.089087   4.614710  13.345242      1.603567      166.076099  ...   \n",
      "3  0.066601   3.446610  12.570969      1.515176      148.603841  ...   \n",
      "4  0.083856   4.297616  15.848771      1.886758      178.151921  ...   \n",
      "\n",
      "   carbon_Solar(kgeCO2)  carbon_Hydro(kgeCO2)  carbon_Other(kgeCO2)  \\\n",
      "0              0.000018              0.000611              0.001150   \n",
      "1              0.000021              0.000645              0.001591   \n",
      "2              0.000004              0.000111              0.000320   \n",
      "3              0.000003              0.000083              0.000302   \n",
      "4              0.000004              0.000103              0.000380   \n",
      "\n",
      "   carbon_Petroleum(kgeCO2)  carbon_Natural gas(kgeCO2)  carbon_Coal(kgeCO2)  \\\n",
      "0                  0.001446                    0.323638             0.051456   \n",
      "1                  0.003941                    0.443330             0.055882   \n",
      "2                  0.000786                    0.081377             0.009716   \n",
      "3                  0.000742                    0.072816             0.008888   \n",
      "4                  0.000925                    0.087294             0.011191   \n",
      "\n",
      "   carbon_Nuclear(kgeCO2)  carbon_Battery(kgeCO2)  carbon_Imports(kgeCO2)  \\\n",
      "0                0.001752                     0.0                     0.0   \n",
      "1                0.002410                     0.0                     0.0   \n",
      "2                0.000486                     0.0                     0.0   \n",
      "3                0.000454                     0.0                     0.0   \n",
      "4                0.000572                     0.0                     0.0   \n",
      "\n",
      "   carbon_total(kgeCO2)  \n",
      "0              0.380294  \n",
      "1              0.508174  \n",
      "2              0.092940  \n",
      "3              0.083394  \n",
      "4              0.100676  \n",
      "\n",
      "[5 rows x 26 columns]\n",
      "utility_fuelmix filenames C:\\Users\\abisht\\Anaconda3\\lib\\site-packages\\carbonfootprint\\dataset/caiso2020/*.csv\n",
      "  Region Code Timestamp (Hour Ending)  Wind Generation (MWh)  \\\n",
      "0         CAL    1/1/2020 12 a.m. PST                    289   \n",
      "1         CAL     1/1/2020 1 a.m. PST                    334   \n",
      "2         CAL     1/1/2020 2 a.m. PST                    654   \n",
      "3         CAL     1/1/2020 3 a.m. PST                    527   \n",
      "4         CAL     1/1/2020 4 a.m. PST                    823   \n",
      "\n",
      "   Solar Generation (MWh)  Hydro Generation (MWh)  Other Generation (MWh)  \\\n",
      "0                       6                     397                     747   \n",
      "1                       5                     304                     750   \n",
      "2                       5                     259                     749   \n",
      "3                       4                     207                     755   \n",
      "4                       4                     205                     756   \n",
      "\n",
      "   Petroleum Generation (MWh)  Natural gas Generation (MWh)  \\\n",
      "0                          46                         10294   \n",
      "1                          91                         10236   \n",
      "2                          90                          9321   \n",
      "3                          91                          8925   \n",
      "4                          90                          8498   \n",
      "\n",
      "   Coal Generation (MWh)  Nuclear Generation (MWh)  ... Wind Generation (%)  \\\n",
      "0                    978                      2275  ...            1.922565   \n",
      "1                    771                      2272  ...            2.262413   \n",
      "2                    665                      2274  ...            4.665763   \n",
      "3                    651                      2274  ...            3.922882   \n",
      "4                    651                      2272  ...            6.188435   \n",
      "\n",
      "   Solar Generation (%)  Hydro Generation (%)  Other Generation (%)  \\\n",
      "0              0.039915              2.641032              4.969399   \n",
      "1              0.033868              2.059202              5.080268   \n",
      "2              0.035671              1.847756              5.343511   \n",
      "3              0.029775              1.540866              5.620068   \n",
      "4              0.030077              1.541469              5.684638   \n",
      "\n",
      "   Petroleum Generation (%)  Natural gas Generation (%)  Coal Generation (%)  \\\n",
      "0                  0.306014                   68.480575             6.506120   \n",
      "1                  0.616406                   69.335501             5.222516   \n",
      "2                  0.642077                   66.497824             4.744239   \n",
      "3                  0.677386                   66.435909             4.845913   \n",
      "4                  0.676743                   63.899541             4.895105   \n",
      "\n",
      "   Nuclear Generation (%)  Battery Generation (%)  Imports Generation (%)  \n",
      "0               15.134380                     0.0                     0.0  \n",
      "1               15.389826                     0.0                     0.0  \n",
      "2               16.223158                     0.0                     0.0  \n",
      "3               16.927200                     0.0                     0.0  \n",
      "4               17.083991                     0.0                     0.0  \n",
      "\n",
      "[5 rows x 24 columns]\n"
     ]
    },
    {
     "data": {
      "text/plain": [
       "Text(0, 0.5, 'Carbon Emission (kgCO2eq)')"
      ]
     },
     "execution_count": 79,
     "metadata": {},
     "output_type": "execute_result"
    },
    {
     "data": {
      "image/png": "[encoded data removed]",
      "text/plain": [
       "<Figure size 1080x432 with 1 Axes>"
      ]
     },
     "metadata": {
      "needs_background": "light"
     },
     "output_type": "display_data"
    }
   ],
   "source": [
    "region =\"caiso\"\n",
    "furlpercent_obj = Fuelmix(region)\n",
    "df_hourly_fuelmix = furlpercent_obj.calculate_fuelmixbypercent(hourly_df)\n",
    "\n",
    "carbonemissio_pbj = Carbon()\n",
    "hourly_fuelmix_carbon = carbonemissio_pbj.calculate_carbonemission(df_hourly_fuelmix)\n",
    "\n",
    "fig, ax = plt.subplots()\n",
    "fig.set_size_inches(15, 6)\n",
    "hourly_fuelmix_carbon.plot( \n",
    "    # x = \"DateTime24\",\n",
    "    y = np.array(column_list_carbon),\n",
    "    title = \"Carbon Emission in utility \"+ region ,\n",
    "    ax=ax) \n",
    "\n",
    "ax.set_xlabel(\"Timestamp\")\n",
    "ax.set_ylabel(\"Carbon Emission (kgCO2eq)\")"
   ]
  },
  {
   "cell_type": "code",
   "execution_count": null,
   "id": "524e1d74-15ff-4325-ba91-a714078200b8",
   "metadata": {},
   "outputs": [],
   "source": []
  }
 ],
 "metadata": {
  "kernelspec": {
   "display_name": "Python 3 (ipykernel)",
   "language": "python",
   "name": "python3"
  },
  "language_info": {
   "codemirror_mode": {
    "name": "ipython",
    "version": 3
   },
   "file_extension": ".py",
   "mimetype": "text/x-python",
   "name": "python",
   "nbconvert_exporter": "python",
   "pygments_lexer": "ipython3",
   "version": "3.9.7"
  }
 },
 "nbformat": 4,
 "nbformat_minor": 5
}

{
 "cells": [
  {
   "cell_type": "markdown",
   "id": "ac55742f-a943-437a-8640-a98dd39f9af0",
   "metadata": {},
   "source": [
    "# Freeswitch Audio Recordings Traffic Analysis \n",
    "\n",
    "## Altanai Bisht \n",
    "( abisht@seattleu.edu\n",
    "altanai.telecom.com)\n",
    "\n",
    "License GPL 3"
   ]
  },
  {
   "cell_type": "code",
   "execution_count": 10,
   "id": "c2542251-7df6-4845-af15-b0f0227b83c3",
   "metadata": {},
   "outputs": [
    {
     "name": "stdout",
     "output_type": "stream",
     "text": [
      "Total Duration: 0:0:2\n"
     ]
    }
   ],
   "source": [
    "# Method 3\n",
    "import scipy\n",
    "from scipy.io import wavfile\n",
    "\n",
    "\n",
    "audiopath= 'C:\\\\Users\\\\abisht\\\\VoIPCallLogs_BigDataSet\\\\audiofiles\\\\recording08_44_12.wav'\n",
    "\n",
    "\n",
    "def output_duration(length):\n",
    "\thours = length // 3600 # calculate in hours\n",
    "\tlength %= 3600\n",
    "\tmins = length // 60 # calculate in minutes\n",
    "\tlength %= 60\n",
    "\tseconds = length # calculate in seconds\n",
    "\n",
    "\treturn hours, mins, seconds\n",
    "\n",
    "# sample_rate holds the sample rate of the wav file in (sample/sec) format\n",
    "# data is the numpy array that consistsof actual data read from the wav file\n",
    "sample_rate, data = wavfile.read(audiopath)\n",
    "len_data = len(data) # holds length of the numpy array\n",
    "t = len_data / sample_rate # returns duration but in floats\n",
    "\n",
    "hours, mins, seconds = output_duration(int(t))\n",
    "print('Total Duration: {}:{}:{}'.format(hours, mins, seconds))\n"
   ]
  },
  {
   "cell_type": "code",
   "execution_count": 17,
   "id": "7dd8b637-420a-4315-8519-26a47708f50d",
   "metadata": {},
   "outputs": [
    {
     "ename": "AttributeError",
     "evalue": "'numpy.ndarray' object has no attribute 'st_mtime'",
     "output_type": "error",
     "traceback": [
      "\u001b[1;31m---------------------------------------------------------------------------\u001b[0m",
      "\u001b[1;31mAttributeError\u001b[0m                            Traceback (most recent call last)",
      "\u001b[1;32m~\\AppData\\Local\\Temp/ipykernel_22012/270348049.py\u001b[0m in \u001b[0;36m<module>\u001b[1;34m\u001b[0m\n\u001b[0;32m      1\u001b[0m \u001b[1;31m# from pydub.utils import mediainfo\u001b[0m\u001b[1;33m\u001b[0m\u001b[1;33m\u001b[0m\u001b[0m\n\u001b[0;32m      2\u001b[0m \u001b[1;31m# mediainfo(audiopath)\u001b[0m\u001b[1;33m\u001b[0m\u001b[1;33m\u001b[0m\u001b[0m\n\u001b[1;32m----> 3\u001b[1;33m \u001b[0mdata\u001b[0m\u001b[1;33m.\u001b[0m\u001b[0mst_mtime\u001b[0m\u001b[1;33m\u001b[0m\u001b[1;33m\u001b[0m\u001b[0m\n\u001b[0m",
      "\u001b[1;31mAttributeError\u001b[0m: 'numpy.ndarray' object has no attribute 'st_mtime'"
     ]
    }
   ],
   "source": [
    "# from pydub.utils import mediainfo\n",
    "# mediainfo(audiopath)\n",
    "data.st_mtime"
   ]
  },
  {
   "cell_type": "code",
   "execution_count": 29,
   "id": "d3245dbd-2c7d-482f-be35-739d3077e0d9",
   "metadata": {},
   "outputs": [],
   "source": [
    "import os.path, time, datetime\n",
    "import platform\n",
    "\n",
    "# def creation_date(path_to_file):\n",
    "#     if platform.system() == 'Windows':\n",
    "#         return os.path.getctime(path_to_file)\n",
    "#     else:\n",
    "#         stat = os.stat(path_to_file)\n",
    "#         try:\n",
    "#             return stat.st_birthtime\n",
    "#         except AttributeError:\n",
    "#             return stat.st_mtime"
   ]
  },
  {
   "cell_type": "code",
   "execution_count": 30,
   "id": "1a96b574-a833-4d32-ae5c-23c5ec1af938",
   "metadata": {},
   "outputs": [
    {
     "name": "stdout",
     "output_type": "stream",
     "text": [
      "1654011853.8700197\n",
      "Date created: 2022-05-31 08:44:13.870020\n"
     ]
    }
   ],
   "source": [
    "# creation_date(audiopath)\n",
    "# print(\"Created: %s\" % creation_date(audiopath))\n",
    "rtime= os.stat(audiopath).st_mtime\n",
    "print(rtime)\n",
    "print(\"Date created:\",datetime.datetime.fromtimestamp(rtime))"
   ]
  },
  {
   "cell_type": "code",
   "execution_count": null,
   "id": "dea69109-bce6-4a57-90bf-f06386ae5e8b",
   "metadata": {},
   "outputs": [],
   "source": []
  },
  {
   "cell_type": "code",
   "execution_count": null,
   "id": "26dcab38-f88d-4537-bb0a-5d8323714242",
   "metadata": {},
   "outputs": [],
   "source": []
  }
 ],
 "metadata": {
  "kernelspec": {
   "display_name": "Python 3 (ipykernel)",
   "language": "python",
   "name": "python3"
  },
  "language_info": {
   "codemirror_mode": {
    "name": "ipython",
    "version": 3
   },
   "file_extension": ".py",
   "mimetype": "text/x-python",
   "name": "python",
   "nbconvert_exporter": "python",
   "pygments_lexer": "ipython3",
   "version": "3.9.7"
  }
 },
 "nbformat": 4,
 "nbformat_minor": 5
}

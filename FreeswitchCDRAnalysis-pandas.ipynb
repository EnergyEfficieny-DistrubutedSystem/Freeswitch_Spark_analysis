{
 "cells": [
  {
   "cell_type": "markdown",
   "id": "eb201755",
   "metadata": {},
   "source": [
    "# Freeswitch CDR Analysis using Pandas \n",
    "\n",
    "## Altanai Bisht \n",
    "( abisht@seattleu.edu\n",
    "altanai.telecom.com)\n",
    "\n",
    "License GPL 3"
   ]
  },
  {
   "cell_type": "code",
   "execution_count": 2,
   "id": "c1d5fd24",
   "metadata": {},
   "outputs": [
    {
     "ename": "ImportError",
     "evalue": "PyArrow >= 1.0.0 must be installed; however, it was not found.",
     "output_type": "error",
     "traceback": [
      "\u001b[1;31m---------------------------------------------------------------------------\u001b[0m",
      "\u001b[1;31mImportError\u001b[0m                               Traceback (most recent call last)",
      "\u001b[1;32m~\\Anaconda3\\lib\\site-packages\\pyspark\\sql\\pandas\\utils.py\u001b[0m in \u001b[0;36mrequire_minimum_pyarrow_version\u001b[1;34m()\u001b[0m\n\u001b[0;32m     48\u001b[0m     \u001b[1;32mtry\u001b[0m\u001b[1;33m:\u001b[0m\u001b[1;33m\u001b[0m\u001b[1;33m\u001b[0m\u001b[0m\n\u001b[1;32m---> 49\u001b[1;33m         \u001b[1;32mimport\u001b[0m \u001b[0mpyarrow\u001b[0m\u001b[1;33m\u001b[0m\u001b[1;33m\u001b[0m\u001b[0m\n\u001b[0m\u001b[0;32m     50\u001b[0m         \u001b[0mhave_arrow\u001b[0m \u001b[1;33m=\u001b[0m \u001b[1;32mTrue\u001b[0m\u001b[1;33m\u001b[0m\u001b[1;33m\u001b[0m\u001b[0m\n",
      "\u001b[1;32m~\\Anaconda3\\lib\\site-packages\\pyarrow\\__init__.py\u001b[0m in \u001b[0;36m<module>\u001b[1;34m\u001b[0m\n\u001b[0;32m     62\u001b[0m \u001b[0m_gc\u001b[0m\u001b[1;33m.\u001b[0m\u001b[0mdisable\u001b[0m\u001b[1;33m(\u001b[0m\u001b[1;33m)\u001b[0m\u001b[1;33m\u001b[0m\u001b[1;33m\u001b[0m\u001b[0m\n\u001b[1;32m---> 63\u001b[1;33m \u001b[1;32mimport\u001b[0m \u001b[0mpyarrow\u001b[0m\u001b[1;33m.\u001b[0m\u001b[0mlib\u001b[0m \u001b[1;32mas\u001b[0m \u001b[0m_lib\u001b[0m\u001b[1;33m\u001b[0m\u001b[1;33m\u001b[0m\u001b[0m\n\u001b[0m\u001b[0;32m     64\u001b[0m \u001b[1;32mif\u001b[0m \u001b[0m_gc_enabled\u001b[0m\u001b[1;33m:\u001b[0m\u001b[1;33m\u001b[0m\u001b[1;33m\u001b[0m\u001b[0m\n",
      "\u001b[1;31mImportError\u001b[0m: DLL load failed while importing lib: The specified procedure could not be found.",
      "\nThe above exception was the direct cause of the following exception:\n",
      "\u001b[1;31mImportError\u001b[0m                               Traceback (most recent call last)",
      "\u001b[1;32m~\\AppData\\Local\\Temp/ipykernel_17848/2658250516.py\u001b[0m in \u001b[0;36m<module>\u001b[1;34m\u001b[0m\n\u001b[0;32m      1\u001b[0m \u001b[1;32mimport\u001b[0m \u001b[0mpandas\u001b[0m \u001b[1;32mas\u001b[0m \u001b[0mpd\u001b[0m\u001b[1;33m\u001b[0m\u001b[1;33m\u001b[0m\u001b[0m\n\u001b[0;32m      2\u001b[0m \u001b[1;32mimport\u001b[0m \u001b[0mnumpy\u001b[0m \u001b[1;32mas\u001b[0m \u001b[0mnp\u001b[0m\u001b[1;33m\u001b[0m\u001b[1;33m\u001b[0m\u001b[0m\n\u001b[1;32m----> 3\u001b[1;33m \u001b[1;32mimport\u001b[0m \u001b[0mpyspark\u001b[0m\u001b[1;33m.\u001b[0m\u001b[0mpandas\u001b[0m \u001b[1;32mas\u001b[0m \u001b[0mps\u001b[0m\u001b[1;33m\u001b[0m\u001b[1;33m\u001b[0m\u001b[0m\n\u001b[0m\u001b[0;32m      4\u001b[0m \u001b[1;32mfrom\u001b[0m \u001b[0mpyspark\u001b[0m\u001b[1;33m.\u001b[0m\u001b[0msql\u001b[0m \u001b[1;32mimport\u001b[0m \u001b[0mSparkSession\u001b[0m\u001b[1;33m\u001b[0m\u001b[1;33m\u001b[0m\u001b[0m\n\u001b[0;32m      5\u001b[0m \u001b[1;33m\u001b[0m\u001b[0m\n",
      "\u001b[1;32m~\\Anaconda3\\lib\\site-packages\\pyspark\\pandas\\__init__.py\u001b[0m in \u001b[0;36m<module>\u001b[1;34m\u001b[0m\n\u001b[0;32m     30\u001b[0m \u001b[1;32mtry\u001b[0m\u001b[1;33m:\u001b[0m\u001b[1;33m\u001b[0m\u001b[1;33m\u001b[0m\u001b[0m\n\u001b[0;32m     31\u001b[0m     \u001b[0mrequire_minimum_pandas_version\u001b[0m\u001b[1;33m(\u001b[0m\u001b[1;33m)\u001b[0m\u001b[1;33m\u001b[0m\u001b[1;33m\u001b[0m\u001b[0m\n\u001b[1;32m---> 32\u001b[1;33m     \u001b[0mrequire_minimum_pyarrow_version\u001b[0m\u001b[1;33m(\u001b[0m\u001b[1;33m)\u001b[0m\u001b[1;33m\u001b[0m\u001b[1;33m\u001b[0m\u001b[0m\n\u001b[0m\u001b[0;32m     33\u001b[0m \u001b[1;32mexcept\u001b[0m \u001b[0mImportError\u001b[0m \u001b[1;32mas\u001b[0m \u001b[0me\u001b[0m\u001b[1;33m:\u001b[0m\u001b[1;33m\u001b[0m\u001b[1;33m\u001b[0m\u001b[0m\n\u001b[0;32m     34\u001b[0m     \u001b[1;32mif\u001b[0m \u001b[0mos\u001b[0m\u001b[1;33m.\u001b[0m\u001b[0menviron\u001b[0m\u001b[1;33m.\u001b[0m\u001b[0mget\u001b[0m\u001b[1;33m(\u001b[0m\u001b[1;34m\"SPARK_TESTING\"\u001b[0m\u001b[1;33m)\u001b[0m\u001b[1;33m:\u001b[0m\u001b[1;33m\u001b[0m\u001b[1;33m\u001b[0m\u001b[0m\n",
      "\u001b[1;32m~\\Anaconda3\\lib\\site-packages\\pyspark\\sql\\pandas\\utils.py\u001b[0m in \u001b[0;36mrequire_minimum_pyarrow_version\u001b[1;34m()\u001b[0m\n\u001b[0;32m     53\u001b[0m         \u001b[0mraised_error\u001b[0m \u001b[1;33m=\u001b[0m \u001b[0merror\u001b[0m\u001b[1;33m\u001b[0m\u001b[1;33m\u001b[0m\u001b[0m\n\u001b[0;32m     54\u001b[0m     \u001b[1;32mif\u001b[0m \u001b[1;32mnot\u001b[0m \u001b[0mhave_arrow\u001b[0m\u001b[1;33m:\u001b[0m\u001b[1;33m\u001b[0m\u001b[1;33m\u001b[0m\u001b[0m\n\u001b[1;32m---> 55\u001b[1;33m         raise ImportError(\"PyArrow >= %s must be installed; however, \"\n\u001b[0m\u001b[0;32m     56\u001b[0m                           \"it was not found.\" % minimum_pyarrow_version) from raised_error\n\u001b[0;32m     57\u001b[0m     \u001b[1;32mif\u001b[0m \u001b[0mLooseVersion\u001b[0m\u001b[1;33m(\u001b[0m\u001b[0mpyarrow\u001b[0m\u001b[1;33m.\u001b[0m\u001b[0m__version__\u001b[0m\u001b[1;33m)\u001b[0m \u001b[1;33m<\u001b[0m \u001b[0mLooseVersion\u001b[0m\u001b[1;33m(\u001b[0m\u001b[0mminimum_pyarrow_version\u001b[0m\u001b[1;33m)\u001b[0m\u001b[1;33m:\u001b[0m\u001b[1;33m\u001b[0m\u001b[1;33m\u001b[0m\u001b[0m\n",
      "\u001b[1;31mImportError\u001b[0m: PyArrow >= 1.0.0 must be installed; however, it was not found."
     ]
    }
   ],
   "source": [
    "import pandas as pd\n",
    "import numpy as np\n",
    "import pyspark.pandas as ps\n",
    "from pyspark.sql import SparkSession\n",
    "\n",
    "spark = SparkSession.builder.getOrCreate()"
   ]
  },
  {
   "cell_type": "markdown",
   "id": "8f3c6e05",
   "metadata": {},
   "source": [
    "## Call Record\n",
    "\n",
    "FreeSWITCH CDRs stored in /usr/local/freeswitch/log/cdr-csv/Master.csv\n",
    "ref : https://freeswitch.org/confluence/display/FREESWITCH/CDR\n",
    "and https://freeswitch.org/confluence/display/FREESWITCH/mod_cdr_csv"
   ]
  },
  {
   "cell_type": "code",
   "execution_count": 2,
   "id": "aedc008d",
   "metadata": {},
   "outputs": [
    {
     "ename": "NameError",
     "evalue": "name 'spark' is not defined",
     "output_type": "error",
     "traceback": [
      "\u001b[1;31m---------------------------------------------------------------------------\u001b[0m",
      "\u001b[1;31mNameError\u001b[0m                                 Traceback (most recent call last)",
      "\u001b[1;32m~\\AppData\\Local\\Temp/ipykernel_328/1910293476.py\u001b[0m in \u001b[0;36m<module>\u001b[1;34m\u001b[0m\n\u001b[0;32m      6\u001b[0m \u001b[0mcdrpath\u001b[0m\u001b[1;33m=\u001b[0m \u001b[1;34m\"C:\\\\Users\\\\abisht\\\\FS_logs\\\\*.csv\"\u001b[0m\u001b[1;33m\u001b[0m\u001b[1;33m\u001b[0m\u001b[0m\n\u001b[0;32m      7\u001b[0m \u001b[0mpath\u001b[0m\u001b[1;33m=\u001b[0m\u001b[1;34m\"C:\\\\Users\\\\abisht\\\\VoIPCallLogs_BigDataSet\\\\freeswitch\\\\*log\"\u001b[0m\u001b[1;33m\u001b[0m\u001b[1;33m\u001b[0m\u001b[0m\n\u001b[1;32m----> 8\u001b[1;33m \u001b[0mdf\u001b[0m \u001b[1;33m=\u001b[0m \u001b[0mspark\u001b[0m\u001b[1;33m.\u001b[0m\u001b[0mread\u001b[0m\u001b[1;33m.\u001b[0m\u001b[0mcsv\u001b[0m\u001b[1;33m(\u001b[0m\u001b[0mSparkFiles\u001b[0m\u001b[1;33m.\u001b[0m\u001b[0mget\u001b[0m\u001b[1;33m(\u001b[0m\u001b[1;34m\"cdrpath\"\u001b[0m\u001b[1;33m)\u001b[0m\u001b[1;33m,\u001b[0m \u001b[0mheader\u001b[0m\u001b[1;33m=\u001b[0m\u001b[1;32mFalse\u001b[0m\u001b[1;33m,\u001b[0m \u001b[0minferSchema\u001b[0m\u001b[1;33m=\u001b[0m \u001b[1;32mTrue\u001b[0m\u001b[1;33m)\u001b[0m\u001b[1;33m\u001b[0m\u001b[1;33m\u001b[0m\u001b[0m\n\u001b[0m",
      "\u001b[1;31mNameError\u001b[0m: name 'spark' is not defined"
     ]
    }
   ],
   "source": [
    "# logfile = \"/fslogs/*.log\"\n",
    "# fslogs = sc.textFile(\"hdfs://localhost:9000/\"+logfile)\n",
    "\n",
    "from pyspark import SparkFiles\n",
    "# spark.sparkContext.addFile(url)\n",
    "cdrpath= \"C:\\\\Users\\\\abisht\\\\FS_logs\\\\*.csv\"\n",
    "path=\"C:\\\\Users\\\\abisht\\\\VoIPCallLogs_BigDataSet\\\\freeswitch\\\\*log\"\n",
    "df = spark.read.csv(SparkFiles.get(\"cdrpath\"), header=False, inferSchema= True)"
   ]
  },
  {
   "cell_type": "code",
   "execution_count": 27,
   "id": "dbdfc911",
   "metadata": {},
   "outputs": [],
   "source": [
    "# Filter : create an RDD containing only those lines that are requests for JPG files\n",
    "# jpglogs = logs.filter(lambda x: \".jpg\" in x)\n",
    "\n",
    "# for line in jpglogs.take(5):\n",
    "#     print(line)"
   ]
  },
  {
   "cell_type": "code",
   "execution_count": null,
   "id": "9e3e4625",
   "metadata": {},
   "outputs": [],
   "source": [
    "from datetime import datetime, date\n",
    "import pandas as pd\n",
    "from pyspark.sql import Row\n",
    "import re\n",
    "\n",
    "# This is the regex which is specific to Apache Access Logs parsing  Log formats \n",
    "# Example Apache log line:\n",
    "# 127.0.0.1 - - [21/Jul/2014:9:55:27 -0800] \"GET /home.html HTTP/1.1\" 200 2048 \n",
    "# 1:IP 2:client 3:user 4:date time          5:method 6:req 7:proto   8:respcode 9:size\n",
    "APACHE_LOG_PATTERN = '^(\\S+) (\\S+) (\\S+) \\[([\\w:/]+\\s[+\\-]\\d{4})\\] \"(\\S+) (\\S+) (\\S+)\" (\\d{3}) (\\d+)'\n",
    "\n",
    "# Example Freeswitch cdr-csv log line:\n",
    "# \"8001\",\"8001\",\"0046423112856\",\"public\",\"2020-06-13 00:58:52\",\"2020-06-13 00:58:52\",\"2020-06-13 00:58:53\",\"1\",\"1\",\"USER_NOT_REGISTERED\",\"f2b05a36-ace2-11ea-aa3b-153da8caf925\",\"\",\"\",\"PCMU\",\"PCMU\"\n",
    "# FS_LOG_PATTERN = '^(\\S+) (\\S+) (\\S+) \\[([\\w:/]+\\s[+\\-]\\d{4})\\] \"(\\S+) (\\S+) (\\S+)\" (\\d{3}) (\\d+)'\n",
    "\n",
    "\n",
    "# The below function is modelled specific to Apache Access Logs Model, which can be modified as per needs to different Logs format\n",
    "# Returns a dictionary containing the parts of the Apache Access Log.\n",
    "# def parse_apache_log_line(logline):\n",
    "#     match = re.search(FS_LOG_PATTERN, logline)\n",
    "#     if match is None:\n",
    "#         raise Error(\"Invalid logline: %s\" % logline)\n",
    "#     return Row(\n",
    "#         ip_address    = match.group(1),\n",
    "#         client_identd = match.group(2),\n",
    "#         user_id       = match.group(3),\n",
    "#         date = (match.group(4)[:-6]).split(\":\", 1)[0],\n",
    "#         time = (match.group(4)[:-6]).split(\":\", 1)[1],\n",
    "#         method        = match.group(5),\n",
    "#         endpoint      = match.group(6),\n",
    "#         protocol      = match.group(7),\n",
    "#         response_code = int(match.group(8)),\n",
    "#         content_size  = int(match.group(9))\n",
    "#     )"
   ]
  },
  {
   "cell_type": "code",
   "execution_count": 28,
   "id": "1d50ca14",
   "metadata": {},
   "outputs": [
    {
     "data": {
      "text/plain": [
       "[Row(_c0='8001', _c1='8001', _c2='0046423112856', _c3='public', _c4='2020-06-13 00:58:52', _c5='2020-06-13 00:58:52', _c6='2020-06-13 00:58:53', _c7=1, _c8='1', _c9='USER_NOT_REGISTERED', _c10='f2b05a36-ace2-11ea-aa3b-153da8caf925', _c11=None, _c12=None, _c13='PCMU', _c14='PCMU'),\n",
       " Row(_c0='8001', _c1='8001', _c2='00046423112856', _c3='public', _c4='2020-06-13 00:59:51', _c5='2020-06-13 00:59:51', _c6='2020-06-13 00:59:52', _c7=1, _c8='1', _c9='USER_NOT_REGISTERED', _c10='15d78f5c-ace3-11ea-aa45-153da8caf925', _c11=None, _c12=None, _c13='PCMU', _c14='PCMU')]"
      ]
     },
     "execution_count": 28,
     "metadata": {},
     "output_type": "execute_result"
    }
   ],
   "source": [
    "df.head(2)"
   ]
  },
  {
   "cell_type": "code",
   "execution_count": 29,
   "id": "6632c911",
   "metadata": {},
   "outputs": [],
   "source": [
    "# df2 = spark.createDataFrame(df)\n",
    "# TypeError: data is already a DataFrame"
   ]
  },
  {
   "cell_type": "code",
   "execution_count": 30,
   "id": "fda38645",
   "metadata": {},
   "outputs": [
    {
     "name": "stdout",
     "output_type": "stream",
     "text": [
      "+----+----+---------------+------+-------------------+-------------------+-------------------+---+---+-------------------+--------------------+----+----+----+----+\n",
      "| _c0| _c1|            _c2|   _c3|                _c4|                _c5|                _c6|_c7|_c8|                _c9|                _c10|_c11|_c12|_c13|_c14|\n",
      "+----+----+---------------+------+-------------------+-------------------+-------------------+---+---+-------------------+--------------------+----+----+----+----+\n",
      "|8001|8001|  0046423112856|public|2020-06-13 00:58:52|2020-06-13 00:58:52|2020-06-13 00:58:53|  1|  1|USER_NOT_REGISTERED|f2b05a36-ace2-11e...|null|null|PCMU|PCMU|\n",
      "|8001|8001| 00046423112856|public|2020-06-13 00:59:51|2020-06-13 00:59:51|2020-06-13 00:59:52|  1|  1|USER_NOT_REGISTERED|15d78f5c-ace3-11e...|null|null|PCMU|PCMU|\n",
      "|8001|8001|000046903433905|public|2020-06-13 01:00:13|2020-06-13 01:00:13|2020-06-13 01:00:14|  1|  1|USER_NOT_REGISTERED|22d77398-ace3-11e...|null|null|PCMU|PCMU|\n",
      "|8001|8001|900046184445688|public|2020-06-13 01:00:36|2020-06-13 01:00:36|2020-06-13 01:00:37|  1|  1|USER_NOT_REGISTERED|30e9979a-ace3-11e...|null|null|PCMU|PCMU|\n",
      "|8001|8001| 90046423112856|public|2020-06-13 01:00:43|2020-06-13 01:00:43|2020-06-13 01:00:44|  1|  1|USER_NOT_REGISTERED|35075b78-ace3-11e...|null|null|PCMU|PCMU|\n",
      "+----+----+---------------+------+-------------------+-------------------+-------------------+---+---+-------------------+--------------------+----+----+----+----+\n",
      "only showing top 5 rows\n",
      "\n",
      "root\n",
      " |-- _c0: string (nullable = true)\n",
      " |-- _c1: string (nullable = true)\n",
      " |-- _c2: string (nullable = true)\n",
      " |-- _c3: string (nullable = true)\n",
      " |-- _c4: string (nullable = true)\n",
      " |-- _c5: string (nullable = true)\n",
      " |-- _c6: string (nullable = true)\n",
      " |-- _c7: integer (nullable = true)\n",
      " |-- _c8: string (nullable = true)\n",
      " |-- _c9: string (nullable = true)\n",
      " |-- _c10: string (nullable = true)\n",
      " |-- _c11: string (nullable = true)\n",
      " |-- _c12: string (nullable = true)\n",
      " |-- _c13: string (nullable = true)\n",
      " |-- _c14: string (nullable = true)\n",
      "\n"
     ]
    }
   ],
   "source": [
    "df.show(5)\n",
    "df.printSchema()"
   ]
  },
  {
   "cell_type": "code",
   "execution_count": null,
   "id": "bce9631d",
   "metadata": {},
   "outputs": [],
   "source": [
    "df.show(1, vertical=True)"
   ]
  },
  {
   "cell_type": "markdown",
   "id": "ba7d6cf6",
   "metadata": {},
   "source": [
    "**DataFrame.collect()** collects the distributed data to the driver side as the local data in Python. Note that this can throw an out-of-memory error when the dataset is too large to fit in the driver side because it collects all the data from executors to the driver side."
   ]
  },
  {
   "cell_type": "code",
   "execution_count": 3,
   "id": "808623ec",
   "metadata": {},
   "outputs": [],
   "source": [
    "# df.collect()"
   ]
  },
  {
   "cell_type": "markdown",
   "id": "475e295e",
   "metadata": {},
   "source": [
    "**Groupby** Group by call duartion "
   ]
  },
  {
   "cell_type": "code",
   "execution_count": 36,
   "id": "104c0642",
   "metadata": {},
   "outputs": [
    {
     "name": "stdout",
     "output_type": "stream",
     "text": [
      "+----+--------+\n",
      "| _c7|avg(_c7)|\n",
      "+----+--------+\n",
      "|  12|    12.0|\n",
      "|   1|     1.0|\n",
      "|  13|    13.0|\n",
      "|   6|     6.0|\n",
      "|   3|     3.0|\n",
      "|   5|     5.0|\n",
      "|   9|     9.0|\n",
      "|  17|    17.0|\n",
      "|   4|     4.0|\n",
      "|   8|     8.0|\n",
      "|   7|     7.0|\n",
      "|  10|    10.0|\n",
      "|  29|    29.0|\n",
      "|  32|    32.0|\n",
      "|  11|    11.0|\n",
      "|  33|    33.0|\n",
      "|   2|     2.0|\n",
      "|   0|     0.0|\n",
      "|1025|  1025.0|\n",
      "|  31|    31.0|\n",
      "+----+--------+\n",
      "only showing top 20 rows\n",
      "\n"
     ]
    }
   ],
   "source": [
    "df.groupby('_c7').avg().show()"
   ]
  },
  {
   "cell_type": "markdown",
   "id": "e263e484",
   "metadata": {},
   "source": [
    "## Transform to  Pandad Dataframe "
   ]
  },
  {
   "cell_type": "code",
   "execution_count": 40,
   "id": "15d76800",
   "metadata": {},
   "outputs": [
    {
     "data": {
      "text/html": [
       "<div>\n",
       "<style scoped>\n",
       "    .dataframe tbody tr th:only-of-type {\n",
       "        vertical-align: middle;\n",
       "    }\n",
       "\n",
       "    .dataframe tbody tr th {\n",
       "        vertical-align: top;\n",
       "    }\n",
       "\n",
       "    .dataframe thead th {\n",
       "        text-align: right;\n",
       "    }\n",
       "</style>\n",
       "<table border=\"1\" class=\"dataframe\">\n",
       "  <thead>\n",
       "    <tr style=\"text-align: right;\">\n",
       "      <th></th>\n",
       "      <th>_c0</th>\n",
       "      <th>_c1</th>\n",
       "      <th>_c2</th>\n",
       "      <th>_c3</th>\n",
       "      <th>_c4</th>\n",
       "      <th>_c5</th>\n",
       "      <th>_c6</th>\n",
       "      <th>_c7</th>\n",
       "      <th>_c8</th>\n",
       "      <th>_c9</th>\n",
       "      <th>_c10</th>\n",
       "      <th>_c11</th>\n",
       "      <th>_c12</th>\n",
       "      <th>_c13</th>\n",
       "      <th>_c14</th>\n",
       "    </tr>\n",
       "  </thead>\n",
       "  <tbody>\n",
       "    <tr>\n",
       "      <th>0</th>\n",
       "      <td>8001</td>\n",
       "      <td>8001</td>\n",
       "      <td>0046423112856</td>\n",
       "      <td>public</td>\n",
       "      <td>2020-06-13 00:58:52</td>\n",
       "      <td>2020-06-13 00:58:52</td>\n",
       "      <td>2020-06-13 00:58:53</td>\n",
       "      <td>1</td>\n",
       "      <td>1</td>\n",
       "      <td>USER_NOT_REGISTERED</td>\n",
       "      <td>f2b05a36-ace2-11ea-aa3b-153da8caf925</td>\n",
       "      <td>None</td>\n",
       "      <td>None</td>\n",
       "      <td>PCMU</td>\n",
       "      <td>PCMU</td>\n",
       "    </tr>\n",
       "    <tr>\n",
       "      <th>1</th>\n",
       "      <td>8001</td>\n",
       "      <td>8001</td>\n",
       "      <td>00046423112856</td>\n",
       "      <td>public</td>\n",
       "      <td>2020-06-13 00:59:51</td>\n",
       "      <td>2020-06-13 00:59:51</td>\n",
       "      <td>2020-06-13 00:59:52</td>\n",
       "      <td>1</td>\n",
       "      <td>1</td>\n",
       "      <td>USER_NOT_REGISTERED</td>\n",
       "      <td>15d78f5c-ace3-11ea-aa45-153da8caf925</td>\n",
       "      <td>None</td>\n",
       "      <td>None</td>\n",
       "      <td>PCMU</td>\n",
       "      <td>PCMU</td>\n",
       "    </tr>\n",
       "    <tr>\n",
       "      <th>2</th>\n",
       "      <td>8001</td>\n",
       "      <td>8001</td>\n",
       "      <td>000046903433905</td>\n",
       "      <td>public</td>\n",
       "      <td>2020-06-13 01:00:13</td>\n",
       "      <td>2020-06-13 01:00:13</td>\n",
       "      <td>2020-06-13 01:00:14</td>\n",
       "      <td>1</td>\n",
       "      <td>1</td>\n",
       "      <td>USER_NOT_REGISTERED</td>\n",
       "      <td>22d77398-ace3-11ea-aa4f-153da8caf925</td>\n",
       "      <td>None</td>\n",
       "      <td>None</td>\n",
       "      <td>PCMU</td>\n",
       "      <td>PCMU</td>\n",
       "    </tr>\n",
       "    <tr>\n",
       "      <th>3</th>\n",
       "      <td>8001</td>\n",
       "      <td>8001</td>\n",
       "      <td>900046184445688</td>\n",
       "      <td>public</td>\n",
       "      <td>2020-06-13 01:00:36</td>\n",
       "      <td>2020-06-13 01:00:36</td>\n",
       "      <td>2020-06-13 01:00:37</td>\n",
       "      <td>1</td>\n",
       "      <td>1</td>\n",
       "      <td>USER_NOT_REGISTERED</td>\n",
       "      <td>30e9979a-ace3-11ea-aa59-153da8caf925</td>\n",
       "      <td>None</td>\n",
       "      <td>None</td>\n",
       "      <td>PCMU</td>\n",
       "      <td>PCMU</td>\n",
       "    </tr>\n",
       "    <tr>\n",
       "      <th>4</th>\n",
       "      <td>8001</td>\n",
       "      <td>8001</td>\n",
       "      <td>90046423112856</td>\n",
       "      <td>public</td>\n",
       "      <td>2020-06-13 01:00:43</td>\n",
       "      <td>2020-06-13 01:00:43</td>\n",
       "      <td>2020-06-13 01:00:44</td>\n",
       "      <td>1</td>\n",
       "      <td>1</td>\n",
       "      <td>USER_NOT_REGISTERED</td>\n",
       "      <td>35075b78-ace3-11ea-aa63-153da8caf925</td>\n",
       "      <td>None</td>\n",
       "      <td>None</td>\n",
       "      <td>PCMU</td>\n",
       "      <td>PCMU</td>\n",
       "    </tr>\n",
       "  </tbody>\n",
       "</table>\n",
       "</div>"
      ],
      "text/plain": [
       "    _c0   _c1              _c2     _c3                  _c4  \\\n",
       "0  8001  8001    0046423112856  public  2020-06-13 00:58:52   \n",
       "1  8001  8001   00046423112856  public  2020-06-13 00:59:51   \n",
       "2  8001  8001  000046903433905  public  2020-06-13 01:00:13   \n",
       "3  8001  8001  900046184445688  public  2020-06-13 01:00:36   \n",
       "4  8001  8001   90046423112856  public  2020-06-13 01:00:43   \n",
       "\n",
       "                   _c5                  _c6  _c7 _c8                  _c9  \\\n",
       "0  2020-06-13 00:58:52  2020-06-13 00:58:53    1   1  USER_NOT_REGISTERED   \n",
       "1  2020-06-13 00:59:51  2020-06-13 00:59:52    1   1  USER_NOT_REGISTERED   \n",
       "2  2020-06-13 01:00:13  2020-06-13 01:00:14    1   1  USER_NOT_REGISTERED   \n",
       "3  2020-06-13 01:00:36  2020-06-13 01:00:37    1   1  USER_NOT_REGISTERED   \n",
       "4  2020-06-13 01:00:43  2020-06-13 01:00:44    1   1  USER_NOT_REGISTERED   \n",
       "\n",
       "                                   _c10  _c11  _c12  _c13  _c14  \n",
       "0  f2b05a36-ace2-11ea-aa3b-153da8caf925  None  None  PCMU  PCMU  \n",
       "1  15d78f5c-ace3-11ea-aa45-153da8caf925  None  None  PCMU  PCMU  \n",
       "2  22d77398-ace3-11ea-aa4f-153da8caf925  None  None  PCMU  PCMU  \n",
       "3  30e9979a-ace3-11ea-aa59-153da8caf925  None  None  PCMU  PCMU  \n",
       "4  35075b78-ace3-11ea-aa63-153da8caf925  None  None  PCMU  PCMU  "
      ]
     },
     "execution_count": 40,
     "metadata": {},
     "output_type": "execute_result"
    }
   ],
   "source": [
    "# spark.conf.set('spark.sql.repl.eagerEval.enabled', True)\n",
    "df= df.toPandas()\n",
    "df.head()"
   ]
  },
  {
   "cell_type": "code",
   "execution_count": 41,
   "id": "faf24027",
   "metadata": {},
   "outputs": [
    {
     "data": {
      "text/plain": [
       "Index(['_c0', '_c1', '_c2', '_c3', '_c4', '_c5', '_c6', '_c7', '_c8', '_c9',\n",
       "       '_c10', '_c11', '_c12', '_c13', '_c14'],\n",
       "      dtype='object')"
      ]
     },
     "execution_count": 41,
     "metadata": {},
     "output_type": "execute_result"
    }
   ],
   "source": [
    "df.columns"
   ]
  },
  {
   "cell_type": "code",
   "execution_count": null,
   "id": "3971a317",
   "metadata": {},
   "outputs": [],
   "source": [
    "# df.select(\"_c4\", \"_\", \"c\").describe().show()"
   ]
  },
  {
   "cell_type": "code",
   "execution_count": 51,
   "id": "9cb199ed",
   "metadata": {},
   "outputs": [],
   "source": [
    "df.rename(columns={\n",
    "    \"_c0\": \"caller_name\", \n",
    "    \"_c1\": \"caller_number\", \n",
    "    \"_c2\": \"destination_number\",\n",
    "    \"_c3\": \"context\", \n",
    "    \"_c4\": \"start_timesatmp\", \n",
    "    \"_c5\": \"answer_timesatmp\",\n",
    "    \"_c6\": \"end_timesatmp\", \n",
    "    \"_c7\": \"duration\", \n",
    "    \"_c8\": \"billsec\",\n",
    "    \"_c9\": \"hangupcause\", \n",
    "    \"_c10\": \"callid\", \n",
    "#     \"_c11\": \"\",\n",
    "#     \"_c12\": \"\", \n",
    "#     \"_c13\": \"\", \n",
    "#     \"_c14\": \"c\"\n",
    "}, errors=\"raise\", inplace=True)"
   ]
  },
  {
   "cell_type": "code",
   "execution_count": null,
   "id": "d5edb6eb",
   "metadata": {},
   "outputs": [],
   "source": [
    "# df.filter(df.a == 1).show()"
   ]
  },
  {
   "cell_type": "code",
   "execution_count": 52,
   "id": "ec22acf8",
   "metadata": {},
   "outputs": [
    {
     "data": {
      "text/html": [
       "<div>\n",
       "<style scoped>\n",
       "    .dataframe tbody tr th:only-of-type {\n",
       "        vertical-align: middle;\n",
       "    }\n",
       "\n",
       "    .dataframe tbody tr th {\n",
       "        vertical-align: top;\n",
       "    }\n",
       "\n",
       "    .dataframe thead th {\n",
       "        text-align: right;\n",
       "    }\n",
       "</style>\n",
       "<table border=\"1\" class=\"dataframe\">\n",
       "  <thead>\n",
       "    <tr style=\"text-align: right;\">\n",
       "      <th></th>\n",
       "      <th>caller_name</th>\n",
       "      <th>caller_number</th>\n",
       "      <th>destination_number</th>\n",
       "      <th>context</th>\n",
       "      <th>start_timesatmp</th>\n",
       "      <th>answer_timesatmp</th>\n",
       "      <th>end_timesatmp</th>\n",
       "      <th>duration</th>\n",
       "      <th>billsec</th>\n",
       "      <th>hangupcause</th>\n",
       "      <th>callid</th>\n",
       "      <th>_c11</th>\n",
       "      <th>_c12</th>\n",
       "      <th>_c13</th>\n",
       "      <th>_c14</th>\n",
       "    </tr>\n",
       "  </thead>\n",
       "  <tbody>\n",
       "    <tr>\n",
       "      <th>0</th>\n",
       "      <td>8001</td>\n",
       "      <td>8001</td>\n",
       "      <td>0046423112856</td>\n",
       "      <td>public</td>\n",
       "      <td>2020-06-13 00:58:52</td>\n",
       "      <td>2020-06-13 00:58:52</td>\n",
       "      <td>2020-06-13 00:58:53</td>\n",
       "      <td>1</td>\n",
       "      <td>1</td>\n",
       "      <td>USER_NOT_REGISTERED</td>\n",
       "      <td>f2b05a36-ace2-11ea-aa3b-153da8caf925</td>\n",
       "      <td>None</td>\n",
       "      <td>None</td>\n",
       "      <td>PCMU</td>\n",
       "      <td>PCMU</td>\n",
       "    </tr>\n",
       "    <tr>\n",
       "      <th>1</th>\n",
       "      <td>8001</td>\n",
       "      <td>8001</td>\n",
       "      <td>00046423112856</td>\n",
       "      <td>public</td>\n",
       "      <td>2020-06-13 00:59:51</td>\n",
       "      <td>2020-06-13 00:59:51</td>\n",
       "      <td>2020-06-13 00:59:52</td>\n",
       "      <td>1</td>\n",
       "      <td>1</td>\n",
       "      <td>USER_NOT_REGISTERED</td>\n",
       "      <td>15d78f5c-ace3-11ea-aa45-153da8caf925</td>\n",
       "      <td>None</td>\n",
       "      <td>None</td>\n",
       "      <td>PCMU</td>\n",
       "      <td>PCMU</td>\n",
       "    </tr>\n",
       "    <tr>\n",
       "      <th>2</th>\n",
       "      <td>8001</td>\n",
       "      <td>8001</td>\n",
       "      <td>000046903433905</td>\n",
       "      <td>public</td>\n",
       "      <td>2020-06-13 01:00:13</td>\n",
       "      <td>2020-06-13 01:00:13</td>\n",
       "      <td>2020-06-13 01:00:14</td>\n",
       "      <td>1</td>\n",
       "      <td>1</td>\n",
       "      <td>USER_NOT_REGISTERED</td>\n",
       "      <td>22d77398-ace3-11ea-aa4f-153da8caf925</td>\n",
       "      <td>None</td>\n",
       "      <td>None</td>\n",
       "      <td>PCMU</td>\n",
       "      <td>PCMU</td>\n",
       "    </tr>\n",
       "    <tr>\n",
       "      <th>3</th>\n",
       "      <td>8001</td>\n",
       "      <td>8001</td>\n",
       "      <td>900046184445688</td>\n",
       "      <td>public</td>\n",
       "      <td>2020-06-13 01:00:36</td>\n",
       "      <td>2020-06-13 01:00:36</td>\n",
       "      <td>2020-06-13 01:00:37</td>\n",
       "      <td>1</td>\n",
       "      <td>1</td>\n",
       "      <td>USER_NOT_REGISTERED</td>\n",
       "      <td>30e9979a-ace3-11ea-aa59-153da8caf925</td>\n",
       "      <td>None</td>\n",
       "      <td>None</td>\n",
       "      <td>PCMU</td>\n",
       "      <td>PCMU</td>\n",
       "    </tr>\n",
       "    <tr>\n",
       "      <th>4</th>\n",
       "      <td>8001</td>\n",
       "      <td>8001</td>\n",
       "      <td>90046423112856</td>\n",
       "      <td>public</td>\n",
       "      <td>2020-06-13 01:00:43</td>\n",
       "      <td>2020-06-13 01:00:43</td>\n",
       "      <td>2020-06-13 01:00:44</td>\n",
       "      <td>1</td>\n",
       "      <td>1</td>\n",
       "      <td>USER_NOT_REGISTERED</td>\n",
       "      <td>35075b78-ace3-11ea-aa63-153da8caf925</td>\n",
       "      <td>None</td>\n",
       "      <td>None</td>\n",
       "      <td>PCMU</td>\n",
       "      <td>PCMU</td>\n",
       "    </tr>\n",
       "  </tbody>\n",
       "</table>\n",
       "</div>"
      ],
      "text/plain": [
       "  caller_name caller_number destination_number context      start_timesatmp  \\\n",
       "0        8001          8001      0046423112856  public  2020-06-13 00:58:52   \n",
       "1        8001          8001     00046423112856  public  2020-06-13 00:59:51   \n",
       "2        8001          8001    000046903433905  public  2020-06-13 01:00:13   \n",
       "3        8001          8001    900046184445688  public  2020-06-13 01:00:36   \n",
       "4        8001          8001     90046423112856  public  2020-06-13 01:00:43   \n",
       "\n",
       "      answer_timesatmp        end_timesatmp  duration billsec  \\\n",
       "0  2020-06-13 00:58:52  2020-06-13 00:58:53         1       1   \n",
       "1  2020-06-13 00:59:51  2020-06-13 00:59:52         1       1   \n",
       "2  2020-06-13 01:00:13  2020-06-13 01:00:14         1       1   \n",
       "3  2020-06-13 01:00:36  2020-06-13 01:00:37         1       1   \n",
       "4  2020-06-13 01:00:43  2020-06-13 01:00:44         1       1   \n",
       "\n",
       "           hangupcause                                callid  _c11  _c12  \\\n",
       "0  USER_NOT_REGISTERED  f2b05a36-ace2-11ea-aa3b-153da8caf925  None  None   \n",
       "1  USER_NOT_REGISTERED  15d78f5c-ace3-11ea-aa45-153da8caf925  None  None   \n",
       "2  USER_NOT_REGISTERED  22d77398-ace3-11ea-aa4f-153da8caf925  None  None   \n",
       "3  USER_NOT_REGISTERED  30e9979a-ace3-11ea-aa59-153da8caf925  None  None   \n",
       "4  USER_NOT_REGISTERED  35075b78-ace3-11ea-aa63-153da8caf925  None  None   \n",
       "\n",
       "   _c13  _c14  \n",
       "0  PCMU  PCMU  \n",
       "1  PCMU  PCMU  \n",
       "2  PCMU  PCMU  \n",
       "3  PCMU  PCMU  \n",
       "4  PCMU  PCMU  "
      ]
     },
     "execution_count": 52,
     "metadata": {},
     "output_type": "execute_result"
    }
   ],
   "source": [
    "df.head()"
   ]
  },
  {
   "cell_type": "markdown",
   "id": "41001a4f",
   "metadata": {},
   "source": [
    "## Plot call traffic on the network"
   ]
  },
  {
   "cell_type": "code",
   "execution_count": 55,
   "id": "8a1a6444",
   "metadata": {},
   "outputs": [
    {
     "data": {
      "text/plain": [
       "<AxesSubplot:>"
      ]
     },
     "execution_count": 55,
     "metadata": {},
     "output_type": "execute_result"
    },
    {
     "data": {
      "image/png": "[encoded data removed]",
      "text/plain": [
       "<Figure size 432x288 with 1 Axes>"
      ]
     },
     "metadata": {
      "needs_background": "light"
     },
     "output_type": "display_data"
    }
   ],
   "source": [
    "df[\"duration\"].plot()"
   ]
  },
  {
   "cell_type": "code",
   "execution_count": 57,
   "id": "56bcd590",
   "metadata": {},
   "outputs": [
    {
     "data": {
      "text/plain": [
       "<AxesSubplot:>"
      ]
     },
     "execution_count": 57,
     "metadata": {},
     "output_type": "execute_result"
    },
    {
     "data": {
      "image/png": "[encoded data removed]",
      "text/plain": [
       "<Figure size 432x288 with 1 Axes>"
      ]
     },
     "metadata": {
      "needs_background": "light"
     },
     "output_type": "display_data"
    }
   ],
   "source": [
    "psser = df[\"duration\"].cummax()\n",
    "psser.plot()"
   ]
  },
  {
   "cell_type": "markdown",
   "id": "34f7f5de",
   "metadata": {},
   "source": []
  },
  {
   "cell_type": "markdown",
   "id": "d709d260",
   "metadata": {},
   "source": [
    "## Processing Durations "
   ]
  },
  {
   "cell_type": "markdown",
   "id": "fca0f61c",
   "metadata": {},
   "source": [
    "Calculating Ring Start\n",
    "\n",
    "ring_start_time = progress_time + progress_media_time"
   ]
  },
  {
   "cell_type": "code",
   "execution_count": null,
   "id": "a579f4d0",
   "metadata": {},
   "outputs": [],
   "source": []
  },
  {
   "cell_type": "markdown",
   "id": "d4b2f03e",
   "metadata": {},
   "source": [
    "PDD (post-dial delay) is the period of silence between the call starting and the call ringing, therefore for calls that ring:\n",
    "\n",
    "pdd = ring_start_time - created_time"
   ]
  },
  {
   "cell_type": "code",
   "execution_count": null,
   "id": "4d9c1e0b",
   "metadata": {},
   "outputs": [],
   "source": []
  },
  {
   "cell_type": "markdown",
   "id": "6ae242e2",
   "metadata": {},
   "source": [
    "Calculating Call Duration\n",
    "length_of_talk_time = hangup_time - answered_time"
   ]
  },
  {
   "cell_type": "code",
   "execution_count": null,
   "id": "f817a30a",
   "metadata": {},
   "outputs": [],
   "source": []
  },
  {
   "cell_type": "markdown",
   "id": "15d4ea50",
   "metadata": {},
   "source": [
    "Calculating Ring Duration\n",
    "if ( answered_time == 0 ) then\n",
    "    length_of_phone_ringing = hangup_time - created_time\n",
    "else\n",
    "    length_of_phone_ringing = answered_time - created_time\n",
    "end"
   ]
  },
  {
   "cell_type": "code",
   "execution_count": null,
   "id": "57384f5e",
   "metadata": {},
   "outputs": [],
   "source": []
  },
  {
   "cell_type": "markdown",
   "id": "3c0d75d7",
   "metadata": {},
   "source": [
    "## Output CSV "
   ]
  },
  {
   "cell_type": "code",
   "execution_count": null,
   "id": "9d18972e",
   "metadata": {},
   "outputs": [],
   "source": [
    "df.write.csv('processed_call_carbonfootprint.csv', header=True)\n",
    "spark.read.csv('processed_call_carbonfootprint.csv', header=True).show()"
   ]
  }
 ],
 "metadata": {
  "kernelspec": {
   "display_name": "Python 3 (ipykernel)",
   "language": "python",
   "name": "python3"
  },
  "language_info": {
   "codemirror_mode": {
    "name": "ipython",
    "version": 3
   },
   "file_extension": ".py",
   "mimetype": "text/x-python",
   "name": "python",
   "nbconvert_exporter": "python",
   "pygments_lexer": "ipython3",
   "version": "3.9.7"
  }
 },
 "nbformat": 4,
 "nbformat_minor": 5
}

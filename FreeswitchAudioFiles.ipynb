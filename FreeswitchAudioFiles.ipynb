{
 "cells": [
  {
   "cell_type": "markdown",
   "id": "ac55742f-a943-437a-8640-a98dd39f9af0",
   "metadata": {},
   "source": [
    "# Freeswitch Audio Recordings Traffic Analysis \n",
    "\n",
    "## Altanai Bisht \n",
    "( abisht@seattleu.import os \n",
    "os.environ['JAVA_HOME']=\"C:\\\\Users\\\\abisht\\\\.jdks\\\\corretto-11.0.15\"\n",
    "print(os.environ['JAVA_HOME'])m)\n",
    "\n",
    "License GPL 3"
   ]
  },
  {
   "cell_type": "code",
   "execution_count": null,
   "id": "db27c63a-cf47-4853-8a93-d7e87d2f790b",
   "metadata": {},
   "outputs": [
    {
     "name": "stdout",
     "output_type": "stream",
     "text": [
      "C:\\Users\\abisht\\.jdks\\corretto-11.0.15\n"
     ]
    }
   ],
   "source": [
    "import os \n",
    "os.environ['JAVA_HOME']=\"C:\\\\Users\\\\abisht\\\\.jdks\\\\corretto-11.0.15\"\n",
    "print(os.environ['JAVA_HOME'])"
   ]
  },
  {
   "cell_type": "code",
   "execution_count": null,
   "id": "ae329d59-c43d-4c1b-871c-60f9312ba51d",
   "metadata": {},
   "outputs": [
    {
     "data": {
      "text/plain": [
       "'C:\\\\Users\\\\abisht\\\\Downloads\\\\spark-3.2.1-bin-hadoop3.2\\\\spark-3.2.1-bin-hadoop3.2'"
      ]
     },
     "execution_count": 37,
     "metadata": {},
     "output_type": "execute_result"
    }
   ],
   "source": [
    "import findspark\n",
    "findspark.init()\n",
    "findspark.find()"
   ]
  },
  {
   "cell_type": "code",
   "execution_count": null,
   "id": "875c3d3b-fd47-45fe-b37d-d0fdc6faa299",
   "metadata": {},
   "outputs": [],
   "source": [
    "import pandas as pd\n",
    "import numpy as np\n",
    "import matplotlib.pyplot as plt\n",
    "import seaborn as sns\n",
    "import numpy as np\n",
    "%matplotlib inline"
   ]
  },
  {
   "cell_type": "code",
   "execution_count": 39,
   "id": "27a3cd98-6e27-4791-8618-c5cd8194e99c",
   "metadata": {},
   "outputs": [],
   "source": [
    "import pyspark \n",
    "from pyspark.sql import SparkSession\n",
    "from pyspark.mllib.stat import Statistics \n",
    "spark = SparkSession.builder.getOrCreate()"
   ]
  },
  {
   "cell_type": "markdown",
   "id": "c86abf02-9a7b-4e71-b64f-cddafe2551d0",
   "metadata": {},
   "source": [
    "# Call Recorded Audio File \n",
    "\n",
    "- wav"
   ]
  },
  {
   "cell_type": "code",
   "execution_count": 140,
   "id": "c2542251-7df6-4845-af15-b0f0227b83c3",
   "metadata": {},
   "outputs": [],
   "source": [
    "import scipy\n",
    "import os.path, time, datetime\n",
    "import platform"
   ]
  },
  {
   "cell_type": "code",
   "execution_count": 141,
   "id": "d3245dbd-2c7d-482f-be35-739d3077e0d9",
   "metadata": {},
   "outputs": [],
   "source": [
    "audiopath= 'C:\\\\Users\\\\abisht\\\\VoIPCallLogs_BigDataSet\\\\audiofiles'"
   ]
  },
  {
   "cell_type": "code",
   "execution_count": 142,
   "id": "b9799708-9349-42de-8d43-e612316d582a",
   "metadata": {},
   "outputs": [
    {
     "data": {
      "text/plain": [
       "['M1F1-Alaw-AFsp.wav',\n",
       " 'M1F1-AlawWE-AFsp.wav',\n",
       " 'M1F1-float32-AFsp.wav',\n",
       " 'M1F1-float64WE-AFsp.wav',\n",
       " 'M1F1-mulawWE-AFsp.wav',\n",
       " 'M1F1-uint8-AFsp.wav',\n",
       " 'output.wav',\n",
       " 'recording08_44_12.wav',\n",
       " 'recording08_44_18.wav',\n",
       " 'recording08_46_25.wav',\n",
       " 'recording08_47_08.wav',\n",
       " 'recording08_47_11.wav',\n",
       " 'recording08_59_58.wav',\n",
       " 'recording09_00_00.wav']"
      ]
     },
     "execution_count": 142,
     "metadata": {},
     "output_type": "execute_result"
    }
   ],
   "source": [
    "rdd =  os.listdir(audiopath)\n",
    "rdd"
   ]
  },
  {
   "cell_type": "code",
   "execution_count": 143,
   "id": "84c88101-5942-4277-925f-fa64f69b2b93",
   "metadata": {},
   "outputs": [
    {
     "data": {
      "text/plain": [
       "[datetime.datetime(2022, 5, 31, 18, 28, 40, 715168),\n",
       " datetime.datetime(2022, 5, 31, 18, 28, 45, 266090),\n",
       " datetime.datetime(2022, 5, 31, 18, 33, 6, 522561),\n",
       " datetime.datetime(2022, 5, 31, 18, 33, 2, 669869),\n",
       " datetime.datetime(2022, 5, 31, 18, 28, 49, 364154),\n",
       " datetime.datetime(2022, 5, 31, 18, 28, 53, 829964),\n",
       " datetime.datetime(2022, 5, 31, 8, 42, 14, 791170),\n",
       " datetime.datetime(2022, 5, 31, 8, 44, 13, 870020),\n",
       " datetime.datetime(2022, 5, 31, 8, 44, 19, 818596),\n",
       " datetime.datetime(2022, 5, 31, 8, 46, 27, 27214),\n",
       " datetime.datetime(2022, 5, 31, 8, 47, 10, 246106),\n",
       " datetime.datetime(2022, 5, 31, 8, 47, 12, 717525),\n",
       " datetime.datetime(2022, 5, 31, 8, 59, 59, 821328),\n",
       " datetime.datetime(2022, 5, 31, 9, 0, 1, 652869)]"
      ]
     },
     "execution_count": 143,
     "metadata": {},
     "output_type": "execute_result"
    }
   ],
   "source": [
    "base_df = []\n",
    "for file in os.listdir(audiopath):\n",
    "    # base_df.append(datetime.datetime.fromtimestamp(os.stat(os.path.join(audiopath,file)).st_mtime).timestamp())\n",
    "    base_df.append(datetime.datetime.fromtimestamp(os.stat(os.path.join(audiopath,file)).st_mtime))\n",
    "base_df"
   ]
  },
  {
   "cell_type": "code",
   "execution_count": 144,
   "id": "50cb2717-0a1c-4c93-b648-a970d04b1fbb",
   "metadata": {},
   "outputs": [],
   "source": [
    "# from pyspark import SparkFiles\n",
    "# # base_df = spark.read.text(SparkFiles.get(audiopath))\n",
    "# # base_df = SparkFiles.get(audiopath)\n",
    "# base_df[\"start\"] =  (datetime.datetime.fromtimestamp(os.stat(audiopath).st_mtime)\n",
    "# base_df"
   ]
  },
  {
   "cell_type": "code",
   "execution_count": 145,
   "id": "53c078f8-91e6-4b92-8068-366463ec7706",
   "metadata": {},
   "outputs": [],
   "source": [
    "# sample_logs = [item['value'] for item in base_df.take(15)]\n",
    "# sample_logs"
   ]
  },
  {
   "cell_type": "code",
   "execution_count": 146,
   "id": "1a96b574-a833-4d32-ae5c-23c5ec1af938",
   "metadata": {},
   "outputs": [],
   "source": [
    "# # creation_date(audiopath)\n",
    "# # print(\"Created: %s\" % creation_date(audiopath))\n",
    "# rtime = os.stat(audiopath).st_mtime\n",
    "# print(rtime)\n",
    "# print(\"Date created:\",datetime.datetime.fromtimestamp(rtime))"
   ]
  },
  {
   "cell_type": "code",
   "execution_count": 147,
   "id": "dea69109-bce6-4a57-90bf-f06386ae5e8b",
   "metadata": {},
   "outputs": [],
   "source": [
    "# from pyspark.sql.functions import regexp_extract\n",
    "\n",
    "# logs_df = base_df.select(datetime.datetime.fromtimestamp(os.stat(base_df).st_mtime).alias('timestamp'))\n",
    "# logs_df.show(10, truncate=True)\n",
    "# print((logs_df.count(), len(logs_df.columns)))"
   ]
  },
  {
   "cell_type": "markdown",
   "id": "8e3fe151-7467-41da-a449-c28720c00f2b",
   "metadata": {},
   "source": [
    "## Data Wrangling"
   ]
  },
  {
   "cell_type": "code",
   "execution_count": 148,
   "id": "8f159f7a-08e0-4271-9fab-625812cbce51",
   "metadata": {},
   "outputs": [],
   "source": [
    "# logs_df= pd.DataFrame(base_df)"
   ]
  },
  {
   "cell_type": "code",
   "execution_count": 149,
   "id": "12e1fae5-2ac6-44db-9059-36e9d0d319c4",
   "metadata": {},
   "outputs": [],
   "source": [
    "# print((base_df.count(), len(base_df.columns)))"
   ]
  },
  {
   "cell_type": "code",
   "execution_count": 150,
   "id": "26dcab38-f88d-4537-bb0a-5d8323714242",
   "metadata": {},
   "outputs": [
    {
     "name": "stdout",
     "output_type": "stream",
     "text": [
      "+--------------------+\n",
      "|           timestamp|\n",
      "+--------------------+\n",
      "|2022-05-31 18:28:...|\n",
      "|2022-05-31 18:28:...|\n",
      "|2022-05-31 18:33:...|\n",
      "|2022-05-31 18:33:...|\n",
      "|2022-05-31 18:28:...|\n",
      "|2022-05-31 18:28:...|\n",
      "|2022-05-31 08:42:...|\n",
      "|2022-05-31 08:44:...|\n",
      "|2022-05-31 08:44:...|\n",
      "|2022-05-31 08:46:...|\n",
      "|2022-05-31 08:47:...|\n",
      "|2022-05-31 08:47:...|\n",
      "|2022-05-31 08:59:...|\n",
      "|2022-05-31 09:00:...|\n",
      "+--------------------+\n",
      "\n"
     ]
    }
   ],
   "source": [
    "from pyspark.sql.functions import col\n",
    "from pyspark.sql.types import TimestampType\n",
    "\n",
    "logs_df = spark.createDataFrame(base_df,TimestampType())\n",
    "logs_df = logs_df.select(col(\"value\").alias(\"timestamp\"))\n",
    "logs_df.show()"
   ]
  },
  {
   "cell_type": "markdown",
   "id": "6dd206be-c807-4846-b7aa-8c46c225fc6f",
   "metadata": {},
   "source": [
    "## Finding missing values, Drop or values outside of date range "
   ]
  },
  {
   "cell_type": "code",
   "execution_count": 151,
   "id": "aa5eccc2-0552-4bf6-8db1-482a67457e19",
   "metadata": {},
   "outputs": [
    {
     "data": {
      "text/plain": [
       "14"
      ]
     },
     "execution_count": 151,
     "metadata": {},
     "output_type": "execute_result"
    }
   ],
   "source": [
    "dates = (\"2019-01-01\",  \"2022-12-31\")\n",
    "# bad_rows_df = logs_df['timestamp'].between(*dates).show(truncate=False)\n",
    "useful_logs_df= logs_df.select(logs_df['timestamp'], logs_df['timestamp'].between(*dates))\n",
    "useful_logs_df.count()"
   ]
  },
  {
   "cell_type": "code",
   "execution_count": 152,
   "id": "ba8a528f-02f3-4592-a5f1-d8c6e32cf1a9",
   "metadata": {},
   "outputs": [
    {
     "name": "stdout",
     "output_type": "stream",
     "text": [
      "+--------------------+---------------------------------------------------------+\n",
      "|           timestamp|((timestamp >= 2019-01-01) AND (timestamp <= 2022-12-31))|\n",
      "+--------------------+---------------------------------------------------------+\n",
      "|2022-05-31 18:28:...|                                                     true|\n",
      "|2022-05-31 18:28:...|                                                     true|\n",
      "|2022-05-31 18:33:...|                                                     true|\n",
      "|2022-05-31 18:33:...|                                                     true|\n",
      "|2022-05-31 18:28:...|                                                     true|\n",
      "|2022-05-31 18:28:...|                                                     true|\n",
      "|2022-05-31 08:42:...|                                                     true|\n",
      "|2022-05-31 08:44:...|                                                     true|\n",
      "|2022-05-31 08:44:...|                                                     true|\n",
      "|2022-05-31 08:46:...|                                                     true|\n",
      "+--------------------+---------------------------------------------------------+\n",
      "only showing top 10 rows\n",
      "\n"
     ]
    }
   ],
   "source": [
    "logs_df = useful_logs_df[useful_logs_df[1]=='true']\n",
    "logs_df.show(10, truncate=True)"
   ]
  },
  {
   "cell_type": "markdown",
   "id": "a2938fee-95b7-430f-8db8-133d7f862011",
   "metadata": {},
   "source": [
    "## RDD row to spark dataframe"
   ]
  },
  {
   "cell_type": "code",
   "execution_count": 153,
   "id": "16a9148f-d001-4081-8310-f17bf592e17f",
   "metadata": {},
   "outputs": [
    {
     "name": "stdout",
     "output_type": "stream",
     "text": [
      "root\n",
      " |-- startTime: timestamp (nullable = true)\n",
      " |-- endTime: timestamp (nullable = true)\n",
      " |-- calluuid: timestamp (nullable = true)\n",
      "\n"
     ]
    }
   ],
   "source": [
    "from pyspark.sql import Row\n",
    "\n",
    "new_rdd = logs_df.rdd\n",
    "parsed_rdd = new_rdd.map(lambda r : Row(\\\n",
    "                                        startTime =r[0],\\\n",
    "                                        endTime=r[0],\\\n",
    "                                        calluuid=r[0]))\n",
    "df2 = spark.createDataFrame(parsed_rdd)\n",
    "df2.printSchema()"
   ]
  },
  {
   "cell_type": "code",
   "execution_count": 154,
   "id": "2d0e4721-abf6-4690-a5e6-7d31503990ec",
   "metadata": {},
   "outputs": [
    {
     "name": "stdout",
     "output_type": "stream",
     "text": [
      "-RECORD 0-------------------------\n",
      " startTime | 2022-05-31 18:28:... \n",
      " endTime   | 2022-05-31 18:28:... \n",
      " calluuid  | 2022-05-31 18:28:... \n",
      "only showing top 1 row\n",
      "\n"
     ]
    }
   ],
   "source": [
    "df2.show(1, vertical=True)"
   ]
  },
  {
   "cell_type": "markdown",
   "id": "7a51a059-362b-4f14-ac3f-a05b7454c7ba",
   "metadata": {},
   "source": [
    "### Daily - Request reponse network traffic "
   ]
  },
  {
   "cell_type": "code",
   "execution_count": 155,
   "id": "27345983-9f71-4948-a6b8-007e96ac3d62",
   "metadata": {},
   "outputs": [
    {
     "name": "stdout",
     "output_type": "stream",
     "text": [
      "+--------------------------+---+\n",
      "|startTime                 |day|\n",
      "+--------------------------+---+\n",
      "|2022-05-31 18:28:40.715168|31 |\n",
      "|2022-05-31 18:28:45.26609 |31 |\n",
      "|2022-05-31 18:33:06.522561|31 |\n",
      "|2022-05-31 18:33:02.669869|31 |\n",
      "|2022-05-31 18:28:49.364154|31 |\n",
      "+--------------------------+---+\n",
      "only showing top 5 rows\n",
      "\n"
     ]
    }
   ],
   "source": [
    "from pyspark.sql import functions as F\n",
    "\n",
    "# find the day of the month\n",
    "daily_traffic_df = df2.select(df2['startTime'], F.dayofmonth('startTime').alias('day'))\n",
    "daily_traffic_df.show(5, truncate=False)"
   ]
  },
  {
   "cell_type": "code",
   "execution_count": 156,
   "id": "0ca2775c-8c31-48f9-86c8-0d53fc5c2075",
   "metadata": {},
   "outputs": [
    {
     "data": {
      "text/html": [
       "<div>\n",
       "<style scoped>\n",
       "    .dataframe tbody tr th:only-of-type {\n",
       "        vertical-align: middle;\n",
       "    }\n",
       "\n",
       "    .dataframe tbody tr th {\n",
       "        vertical-align: top;\n",
       "    }\n",
       "\n",
       "    .dataframe thead th {\n",
       "        text-align: right;\n",
       "    }\n",
       "</style>\n",
       "<table border=\"1\" class=\"dataframe\">\n",
       "  <thead>\n",
       "    <tr style=\"text-align: right;\">\n",
       "      <th></th>\n",
       "      <th>day</th>\n",
       "      <th>count</th>\n",
       "    </tr>\n",
       "  </thead>\n",
       "  <tbody>\n",
       "    <tr>\n",
       "      <th>0</th>\n",
       "      <td>31</td>\n",
       "      <td>14</td>\n",
       "    </tr>\n",
       "  </tbody>\n",
       "</table>\n",
       "</div>"
      ],
      "text/plain": [
       "   day  count\n",
       "0   31     14"
      ]
     },
     "execution_count": 156,
     "metadata": {},
     "output_type": "execute_result"
    }
   ],
   "source": [
    "# Count of calls per day\n",
    "def_mr = pd.get_option('max_rows')\n",
    "pd.set_option('max_rows', 10)\n",
    "\n",
    "daily_df = (daily_traffic_df\n",
    "                     .groupBy('day')\n",
    "                     .count()\n",
    "                     .sort(\"day\"))\n",
    "\n",
    "daily_df = daily_df.toPandas()\n",
    "daily_df"
   ]
  },
  {
   "cell_type": "code",
   "execution_count": 157,
   "id": "68ca9059-6713-4d07-907f-8add559f2cc2",
   "metadata": {},
   "outputs": [
    {
     "data": {
      "image/png": "[encoded data removed]",
      "text/plain": [
       "<Figure size 540x360 with 1 Axes>"
      ]
     },
     "metadata": {
      "needs_background": "light"
     },
     "output_type": "display_data"
    }
   ],
   "source": [
    "c = sns.catplot(x='day', y='count',\n",
    "                data=daily_df,\n",
    "                kind='point', height=5,\n",
    "                aspect=1.5)"
   ]
  },
  {
   "cell_type": "markdown",
   "id": "c0f261c3-a5f2-479d-87d2-51d4ec269a05",
   "metadata": {},
   "source": [
    "### Hourly - Request reponse network traffic "
   ]
  },
  {
   "cell_type": "code",
   "execution_count": 158,
   "id": "741144cd-dfe4-42c5-b5e2-ea0976787924",
   "metadata": {},
   "outputs": [
    {
     "data": {
      "text/html": [
       "<div>\n",
       "<style scoped>\n",
       "    .dataframe tbody tr th:only-of-type {\n",
       "        vertical-align: middle;\n",
       "    }\n",
       "\n",
       "    .dataframe tbody tr th {\n",
       "        vertical-align: top;\n",
       "    }\n",
       "\n",
       "    .dataframe thead th {\n",
       "        text-align: right;\n",
       "    }\n",
       "</style>\n",
       "<table border=\"1\" class=\"dataframe\">\n",
       "  <thead>\n",
       "    <tr style=\"text-align: right;\">\n",
       "      <th></th>\n",
       "      <th>window</th>\n",
       "      <th>count</th>\n",
       "    </tr>\n",
       "  </thead>\n",
       "  <tbody>\n",
       "    <tr>\n",
       "      <th>0</th>\n",
       "      <td>(2022-05-31 06:15:00, 2022-05-31 06:30:00)</td>\n",
       "      <td>4</td>\n",
       "    </tr>\n",
       "    <tr>\n",
       "      <th>1</th>\n",
       "      <td>(2022-05-31 06:30:00, 2022-05-31 06:45:00)</td>\n",
       "      <td>2</td>\n",
       "    </tr>\n",
       "    <tr>\n",
       "      <th>2</th>\n",
       "      <td>(2022-05-31 08:30:00, 2022-05-31 08:45:00)</td>\n",
       "      <td>3</td>\n",
       "    </tr>\n",
       "    <tr>\n",
       "      <th>3</th>\n",
       "      <td>(2022-05-31 08:45:00, 2022-05-31 09:00:00)</td>\n",
       "      <td>4</td>\n",
       "    </tr>\n",
       "    <tr>\n",
       "      <th>4</th>\n",
       "      <td>(2022-05-31 09:00:00, 2022-05-31 09:15:00)</td>\n",
       "      <td>1</td>\n",
       "    </tr>\n",
       "  </tbody>\n",
       "</table>\n",
       "</div>"
      ],
      "text/plain": [
       "                                       window  count\n",
       "0  (2022-05-31 06:15:00, 2022-05-31 06:30:00)      4\n",
       "1  (2022-05-31 06:30:00, 2022-05-31 06:45:00)      2\n",
       "2  (2022-05-31 08:30:00, 2022-05-31 08:45:00)      3\n",
       "3  (2022-05-31 08:45:00, 2022-05-31 09:00:00)      4\n",
       "4  (2022-05-31 09:00:00, 2022-05-31 09:15:00)      1"
      ]
     },
     "execution_count": 158,
     "metadata": {},
     "output_type": "execute_result"
    }
   ],
   "source": [
    "# Count of calls per hour\n",
    "\n",
    "from pyspark.sql.functions import col, count, date_format, date_sub, date_trunc, month, next_day, to_timestamp, weekofyear, window, year\n",
    "\n",
    "def_mr = pd.get_option('max_rows')\n",
    "pd.set_option('max_rows', 10)\n",
    "\n",
    "hourly_df = (daily_traffic_df\n",
    "                     .select(F.date_format('startTime','yyyy-MM-dd hh:mm:ss').alias('timestamp'))\n",
    "                     .groupBy(window('timestamp', \"15 minutes\"))\n",
    "                     .count())\n",
    "# hourly_df= hourly_df.groupBy('startTime', window('startTime', \"5 minutes\")).sum(\"metric\")\n",
    "\n",
    "hourly_df = hourly_df.toPandas()\n",
    "hourly_df"
   ]
  },
  {
   "cell_type": "code",
   "execution_count": 159,
   "id": "d811c56c-2c0f-4de0-956f-cfa949f1bdb2",
   "metadata": {},
   "outputs": [
    {
     "data": {
      "text/html": [
       "<div>\n",
       "<style scoped>\n",
       "    .dataframe tbody tr th:only-of-type {\n",
       "        vertical-align: middle;\n",
       "    }\n",
       "\n",
       "    .dataframe tbody tr th {\n",
       "        vertical-align: top;\n",
       "    }\n",
       "\n",
       "    .dataframe thead th {\n",
       "        text-align: right;\n",
       "    }\n",
       "</style>\n",
       "<table border=\"1\" class=\"dataframe\">\n",
       "  <thead>\n",
       "    <tr style=\"text-align: right;\">\n",
       "      <th></th>\n",
       "      <th>count</th>\n",
       "      <th>start</th>\n",
       "    </tr>\n",
       "  </thead>\n",
       "  <tbody>\n",
       "    <tr>\n",
       "      <th>0</th>\n",
       "      <td>4</td>\n",
       "      <td>2022-05-31 06:15:00</td>\n",
       "    </tr>\n",
       "    <tr>\n",
       "      <th>1</th>\n",
       "      <td>2</td>\n",
       "      <td>2022-05-31 06:30:00</td>\n",
       "    </tr>\n",
       "    <tr>\n",
       "      <th>2</th>\n",
       "      <td>3</td>\n",
       "      <td>2022-05-31 08:30:00</td>\n",
       "    </tr>\n",
       "    <tr>\n",
       "      <th>3</th>\n",
       "      <td>4</td>\n",
       "      <td>2022-05-31 08:45:00</td>\n",
       "    </tr>\n",
       "    <tr>\n",
       "      <th>4</th>\n",
       "      <td>1</td>\n",
       "      <td>2022-05-31 09:00:00</td>\n",
       "    </tr>\n",
       "  </tbody>\n",
       "</table>\n",
       "</div>"
      ],
      "text/plain": [
       "   count               start\n",
       "0      4 2022-05-31 06:15:00\n",
       "1      2 2022-05-31 06:30:00\n",
       "2      3 2022-05-31 08:30:00\n",
       "3      4 2022-05-31 08:45:00\n",
       "4      1 2022-05-31 09:00:00"
      ]
     },
     "execution_count": 159,
     "metadata": {},
     "output_type": "execute_result"
    }
   ],
   "source": [
    "window_start = hourly_df['window'].map(lambda r : Row(start =r[0]))\n",
    "window_start= spark.createDataFrame(window_start).toPandas()\n",
    "hourly_df[\"start\"]=window_start\n",
    "hourly_df.drop(columns=[\"window\"], inplace=True)\n",
    "hourly_df"
   ]
  },
  {
   "cell_type": "code",
   "execution_count": 161,
   "id": "d41a4d0d-a0cc-43c6-9e16-7c92c516233e",
   "metadata": {},
   "outputs": [
    {
     "data": {
      "text/plain": [
       "<seaborn.axisgrid.FacetGrid at 0x24fd06525b0>"
      ]
     },
     "execution_count": 161,
     "metadata": {},
     "output_type": "execute_result"
    },
    {
     "data": {
      "text/plain": [
       "<Figure size 432x360 with 0 Axes>"
      ]
     },
     "metadata": {},
     "output_type": "display_data"
    },
    {
     "data": {
      "image/png": "[encoded data removed]",
      "text/plain": [
       "<Figure size 1296x216 with 1 Axes>"
      ]
     },
     "metadata": {
      "needs_background": "light"
     },
     "output_type": "display_data"
    }
   ],
   "source": [
    "plt.figure(figsize=(6,5))\n",
    "chart = sns.catplot(x='start', y='count',\n",
    "                data=hourly_df,\n",
    "                kind='bar', height=3, aspect=6)\n",
    "chart.set_xticklabels(rotation=65, horizontalalignment='right')"
   ]
  },
  {
   "cell_type": "markdown",
   "id": "76250b74-420d-4974-ac32-c1186f98a4ee",
   "metadata": {},
   "source": [
    "Ref \n",
    "- http://www-mmsp.ece.mcgill.ca/Documents/AudioFormats/WAVE/Samples.html\n",
    "-https://towardsdatascience.com/40-open-source-audio-datasets-for-ml-59dc39d48f06"
   ]
  },
  {
   "cell_type": "code",
   "execution_count": null,
   "id": "871bdadf-011b-483e-abe6-72a0efad595e",
   "metadata": {},
   "outputs": [],
   "source": []
  }
 ],
 "metadata": {
  "kernelspec": {
   "display_name": "Python 3 (ipykernel)",
   "language": "python",
   "name": "python3"
  },
  "language_info": {
   "codemirror_mode": {
    "name": "ipython",
    "version": 3
   },
   "file_extension": ".py",
   "mimetype": "text/x-python",
   "name": "python",
   "nbconvert_exporter": "python",
   "pygments_lexer": "ipython3",
   "version": "3.9.7"
  }
 },
 "nbformat": 4,
 "nbformat_minor": 5
}

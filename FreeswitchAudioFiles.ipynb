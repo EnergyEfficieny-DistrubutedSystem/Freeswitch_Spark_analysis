{
 "cells": [
  {
   "cell_type": "markdown",
   "id": "ac55742f-a943-437a-8640-a98dd39f9af0",
   "metadata": {},
   "source": [
    "# Freeswitch Audio Recordings Traffic Analysis \n",
    "\n",
    "## Altanai Bisht \n",
    "( abisht@seattleu.import os \n",
    "os.environ['JAVA_HOME']=\"C:\\\\Users\\\\abisht\\\\.jdks\\\\corretto-11.0.15\"\n",
    "print(os.environ['JAVA_HOME'])m)\n",
    "\n",
    "License GPL 3"
   ]
  },
  {
   "cell_type": "code",
   "execution_count": null,
   "id": "db27c63a-cf47-4853-8a93-d7e87d2f790b",
   "metadata": {},
   "outputs": [],
   "source": [
    "import os \n",
    "os.environ['JAVA_HOME']=\"C:\\\\Users\\\\abisht\\\\.jdks\\\\corretto-11.0.15\"\n",
    "print(os.environ['JAVA_HOME'])"
   ]
  },
  {
   "cell_type": "code",
   "execution_count": null,
   "id": "ae329d59-c43d-4c1b-871c-60f9312ba51d",
   "metadata": {},
   "outputs": [],
   "source": [
    "import findspark\n",
    "findspark.init()\n",
    "findspark.find()"
   ]
  },
  {
   "cell_type": "code",
   "execution_count": null,
   "id": "875c3d3b-fd47-45fe-b37d-d0fdc6faa299",
   "metadata": {},
   "outputs": [],
   "source": [
    "import pandas as pd\n",
    "import numpy as np\n",
    "import matplotlib.pyplot as plt\n",
    "import seaborn as sns\n",
    "import numpy as np\n",
    "%matplotlib inline"
   ]
  },
  {
   "cell_type": "code",
   "execution_count": null,
   "id": "27a3cd98-6e27-4791-8618-c5cd8194e99c",
   "metadata": {},
   "outputs": [],
   "source": [
    "import pyspark \n",
    "from pyspark.sql import SparkSession\n",
    "from pyspark.mllib.stat import Statistics \n",
    "spark = SparkSession.builder.getOrCreate()"
   ]
  },
  {
   "cell_type": "markdown",
   "id": "c86abf02-9a7b-4e71-b64f-cddafe2551d0",
   "metadata": {},
   "source": [
    "# Call Recorded Audio File \n",
    "\n",
    "- wav"
   ]
  },
  {
   "cell_type": "code",
   "execution_count": 31,
   "id": "c2542251-7df6-4845-af15-b0f0227b83c3",
   "metadata": {},
   "outputs": [],
   "source": [
    "import scipy\n",
    "import os.path, time, datetime\n",
    "import platform\n"
   ]
  },
  {
   "cell_type": "code",
   "execution_count": 29,
   "id": "d3245dbd-2c7d-482f-be35-739d3077e0d9",
   "metadata": {},
   "outputs": [],
   "source": [
    "audiopath= 'C:\\\\Users\\\\abisht\\\\VoIPCallLogs_BigDataSet\\\\audiofiles\\\\*.wav'"
   ]
  },
  {
   "cell_type": "code",
   "execution_count": 30,
   "id": "1a96b574-a833-4d32-ae5c-23c5ec1af938",
   "metadata": {},
   "outputs": [
    {
     "name": "stdout",
     "output_type": "stream",
     "text": [
      "1654011853.8700197\n",
      "Date created: 2022-05-31 08:44:13.870020\n"
     ]
    }
   ],
   "source": [
    "# creation_date(audiopath)\n",
    "# print(\"Created: %s\" % creation_date(audiopath))\n",
    "rtime= os.stat(audiopath).st_mtime\n",
    "print(rtime)\n",
    "print(\"Date created:\",datetime.datetime.fromtimestamp(rtime))"
   ]
  },
  {
   "cell_type": "code",
   "execution_count": null,
   "id": "e57ace70-aa02-4cf4-a452-d7af66a97d7c",
   "metadata": {},
   "outputs": [],
   "source": []
  },
  {
   "cell_type": "code",
   "execution_count": null,
   "id": "dea69109-bce6-4a57-90bf-f06386ae5e8b",
   "metadata": {},
   "outputs": [],
   "source": [
    "from pyspark.sql.functions import regexp_extract\n",
    "\n",
    "logs_df = base_df.select(regexp_extract('value', ts_pattern, 1).alias('timestamp'))\n",
    "logs_df.show(10, truncate=True)\n",
    "print((logs_df.count(), len(logs_df.columns)))"
   ]
  },
  {
   "cell_type": "code",
   "execution_count": null,
   "id": "26dcab38-f88d-4537-bb0a-5d8323714242",
   "metadata": {},
   "outputs": [],
   "source": []
  }
 ],
 "metadata": {
  "kernelspec": {
   "display_name": "Python 3 (ipykernel)",
   "language": "python",
   "name": "python3"
  },
  "language_info": {
   "codemirror_mode": {
    "name": "ipython",
    "version": 3
   },
   "file_extension": ".py",
   "mimetype": "text/x-python",
   "name": "python",
   "nbconvert_exporter": "python",
   "pygments_lexer": "ipython3",
   "version": "3.9.7"
  }
 },
 "nbformat": 4,
 "nbformat_minor": 5
}
